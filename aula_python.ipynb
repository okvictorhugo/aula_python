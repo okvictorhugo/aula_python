{
  "nbformat": 4,
  "nbformat_minor": 0,
  "metadata": {
    "colab": {
      "provenance": [],
      "toc_visible": true,
      "authorship_tag": "ABX9TyP7aFBi5XyOaorjiFXKgEMR",
      "include_colab_link": true
    },
    "kernelspec": {
      "name": "python3",
      "display_name": "Python 3"
    },
    "language_info": {
      "name": "python"
    }
  },
  "cells": [
    {
      "cell_type": "markdown",
      "metadata": {
        "id": "view-in-github",
        "colab_type": "text"
      },
      "source": [
        "<a href=\"https://colab.research.google.com/github/okvictorhugo/aula_python/blob/main/aula_python.ipynb\" target=\"_parent\"><img src=\"https://colab.research.google.com/assets/colab-badge.svg\" alt=\"Open In Colab\"/></a>"
      ]
    },
    {
      "cell_type": "markdown",
      "source": [
        "# Aula 1 Logica e Algoritmos #"
      ],
      "metadata": {
        "id": "UNrEFsVELMtw"
      }
    },
    {
      "cell_type": "code",
      "execution_count": null,
      "metadata": {
        "colab": {
          "base_uri": "https://localhost:8080/"
        },
        "id": "eoQvBn8csPRo",
        "outputId": "bc8c66f7-59e5-496d-95c3-bf6eea81d40d"
      },
      "outputs": [
        {
          "output_type": "stream",
          "name": "stdout",
          "text": [
            "Ola Mundo!\n"
          ]
        }
      ],
      "source": [
        "print ('Ola Mundo!')"
      ]
    },
    {
      "cell_type": "code",
      "source": [
        "print (2+3)"
      ],
      "metadata": {
        "colab": {
          "base_uri": "https://localhost:8080/"
        },
        "id": "9tbRbxrLsecw",
        "outputId": "28626a2d-e1ba-4362-d1f8-00142e33f386"
      },
      "execution_count": null,
      "outputs": [
        {
          "output_type": "stream",
          "name": "stdout",
          "text": [
            "5\n"
          ]
        }
      ]
    },
    {
      "cell_type": "code",
      "source": [
        "print ('2+3')"
      ],
      "metadata": {
        "colab": {
          "base_uri": "https://localhost:8080/"
        },
        "id": "kPHowgyEtQpr",
        "outputId": "3b95fd1f-c67a-44fd-f9df-062e6661af27"
      },
      "execution_count": null,
      "outputs": [
        {
          "output_type": "stream",
          "name": "stdout",
          "text": [
            "2+3\n"
          ]
        }
      ]
    },
    {
      "cell_type": "code",
      "source": [
        "print ('2'+'3')"
      ],
      "metadata": {
        "colab": {
          "base_uri": "https://localhost:8080/"
        },
        "id": "kU1mBbBYtUtL",
        "outputId": "87978862-3d6a-4033-f4dd-8702655f3504"
      },
      "execution_count": null,
      "outputs": [
        {
          "output_type": "stream",
          "name": "stdout",
          "text": [
            "23\n"
          ]
        }
      ]
    },
    {
      "cell_type": "code",
      "source": [
        "print ('Ola,'+'Mundo')\n",
        "print ('Olá','Mundo')"
      ],
      "metadata": {
        "colab": {
          "base_uri": "https://localhost:8080/"
        },
        "id": "cE7wWec8tvUd",
        "outputId": "25b8c624-dda2-4cc3-8ab2-291f57b04a6f"
      },
      "execution_count": null,
      "outputs": [
        {
          "output_type": "stream",
          "name": "stdout",
          "text": [
            "Ola,Mundo\n",
            "Olá Mundo\n"
          ]
        }
      ]
    },
    {
      "cell_type": "code",
      "source": [
        "print ('O resultado da soma de 2 + 3 é:', 2 + 3)"
      ],
      "metadata": {
        "colab": {
          "base_uri": "https://localhost:8080/"
        },
        "id": "xW0iebuauNyY",
        "outputId": "e90faa4a-d5e2-4dc3-a345-30f6020879a0"
      },
      "execution_count": null,
      "outputs": [
        {
          "output_type": "stream",
          "name": "stdout",
          "text": [
            "O resultado da soma de 2 + 3 é: 5\n"
          ]
        }
      ]
    },
    {
      "cell_type": "code",
      "source": [
        "print (10* (5+7)/4)"
      ],
      "metadata": {
        "colab": {
          "base_uri": "https://localhost:8080/"
        },
        "id": "uDLX3OK6wBfP",
        "outputId": "2e03a17c-51f0-445a-a5cb-7dff6456a810"
      },
      "execution_count": null,
      "outputs": [
        {
          "output_type": "stream",
          "name": "stdout",
          "text": [
            "30.0\n"
          ]
        }
      ]
    },
    {
      "cell_type": "code",
      "source": [
        "print  (10*(5+7/4))"
      ],
      "metadata": {
        "colab": {
          "base_uri": "https://localhost:8080/"
        },
        "id": "PomLqqVzwSJq",
        "outputId": "d8a514bf-c1d0-49f8-f6a2-91566086a4dc"
      },
      "execution_count": null,
      "outputs": [
        {
          "output_type": "stream",
          "name": "stdout",
          "text": [
            "67.5\n"
          ]
        }
      ]
    },
    {
      "cell_type": "code",
      "source": [
        "nota = 8.5\n",
        "disciplina = 'Logica de Programação e Algoritmos'\n",
        "\n",
        "print(nota)\n",
        "print(disciplina)"
      ],
      "metadata": {
        "colab": {
          "base_uri": "https://localhost:8080/"
        },
        "id": "iG9s0D1pxgyH",
        "outputId": "704c3ecf-0812-4582-d432-c1c76c055560"
      },
      "execution_count": null,
      "outputs": [
        {
          "output_type": "stream",
          "name": "stdout",
          "text": [
            "8.5\n",
            "Logica de Programação e Algoritmos\n"
          ]
        }
      ]
    },
    {
      "cell_type": "code",
      "source": [
        "a = 1 #a recebe 1\n",
        "b = 5 #b recebe 5"
      ],
      "metadata": {
        "id": "ZE9Gkm7Z1alI"
      },
      "execution_count": null,
      "outputs": []
    },
    {
      "cell_type": "code",
      "source": [
        "resposta = a == b\n",
        "print (resposta)"
      ],
      "metadata": {
        "colab": {
          "base_uri": "https://localhost:8080/"
        },
        "id": "LFGyG9Y01njn",
        "outputId": "346a47af-2e2f-41c9-82a1-493b4be1dd1e"
      },
      "execution_count": null,
      "outputs": [
        {
          "output_type": "stream",
          "name": "stdout",
          "text": [
            "False\n"
          ]
        }
      ]
    },
    {
      "cell_type": "code",
      "source": [
        "resposta = a != b\n",
        "print(resposta)\n"
      ],
      "metadata": {
        "colab": {
          "base_uri": "https://localhost:8080/"
        },
        "id": "A1O5k4K510fk",
        "outputId": "45b2750c-5ed5-4661-f56f-0c2c6018f13c"
      },
      "execution_count": null,
      "outputs": [
        {
          "output_type": "stream",
          "name": "stdout",
          "text": [
            "True\n"
          ]
        }
      ]
    },
    {
      "cell_type": "code",
      "source": [
        "\n",
        "\n",
        "frase = 'Ola, Mundo!'\n",
        "print(frase)"
      ],
      "metadata": {
        "colab": {
          "base_uri": "https://localhost:8080/"
        },
        "id": "SA5pNdmf47J_",
        "outputId": "327afd46-eb5f-4657-b96b-effc8c464989"
      },
      "execution_count": null,
      "outputs": [
        {
          "output_type": "stream",
          "name": "stdout",
          "text": [
            "Ola, Mundo!\n"
          ]
        }
      ]
    },
    {
      "cell_type": "code",
      "source": [
        "print(frase[0])"
      ],
      "metadata": {
        "colab": {
          "base_uri": "https://localhost:8080/"
        },
        "id": "JC0sd51x5OYY",
        "outputId": "e2cb9e9d-f6dc-4d22-fe47-ce4d30d4cbe1"
      },
      "execution_count": null,
      "outputs": [
        {
          "output_type": "stream",
          "name": "stdout",
          "text": [
            "O\n"
          ]
        }
      ]
    },
    {
      "cell_type": "code",
      "source": [
        "print(frase[2])"
      ],
      "metadata": {
        "colab": {
          "base_uri": "https://localhost:8080/"
        },
        "id": "X04sVJL55oST",
        "outputId": "62da9cbd-3ce1-401a-fab4-604118b9113f"
      },
      "execution_count": null,
      "outputs": [
        {
          "output_type": "stream",
          "name": "stdout",
          "text": [
            "a\n"
          ]
        }
      ]
    },
    {
      "cell_type": "code",
      "source": [
        "s1 = 'Logica de Programacao'\n",
        "s1 = s1 + 'e Algoritmos'\n",
        "print(s1)"
      ],
      "metadata": {
        "colab": {
          "base_uri": "https://localhost:8080/"
        },
        "id": "Okj5DmPY6UpJ",
        "outputId": "96bc6767-9ac0-43e1-dbb3-3fb53370eee2"
      },
      "execution_count": null,
      "outputs": [
        {
          "output_type": "stream",
          "name": "stdout",
          "text": [
            "Logica de Programacaoe Algoritmos\n"
          ]
        }
      ]
    },
    {
      "cell_type": "code",
      "source": [
        "s1 = 'A' + '-' * 10 + 'B'\n",
        "print(s1)"
      ],
      "metadata": {
        "colab": {
          "base_uri": "https://localhost:8080/"
        },
        "id": "SWDjBrUA6995",
        "outputId": "20095b61-cf82-41ab-a93d-5fe779bfb7b0"
      },
      "execution_count": null,
      "outputs": [
        {
          "output_type": "stream",
          "name": "stdout",
          "text": [
            "A----------B\n"
          ]
        }
      ]
    },
    {
      "cell_type": "code",
      "source": [
        "nota = 8.5\n",
        "s1 = 'Voce tirou %f na disciplina de Algoritmos' % nota\n",
        "print(s1)"
      ],
      "metadata": {
        "colab": {
          "base_uri": "https://localhost:8080/"
        },
        "id": "qJALlqLX8FXR",
        "outputId": "811ef0bc-3fa1-4aa7-e785-17b485fbfa8c"
      },
      "execution_count": null,
      "outputs": [
        {
          "output_type": "stream",
          "name": "stdout",
          "text": [
            "Voce tirou 8.500000 na disciplina de Algoritmos\n"
          ]
        }
      ]
    },
    {
      "cell_type": "code",
      "source": [
        "nota = 8.5\n",
        "s1 = 'Voce tirou %.2f na disciplina de Algoritmos' % nota\n",
        "print(s1)"
      ],
      "metadata": {
        "colab": {
          "base_uri": "https://localhost:8080/"
        },
        "id": "6Gf3SV198hWx",
        "outputId": "69e4d505-796b-4b1b-9f63-9f42fb429722"
      },
      "execution_count": null,
      "outputs": [
        {
          "output_type": "stream",
          "name": "stdout",
          "text": [
            "Voce tirou 8.50 na disciplina de Algoritmos\n"
          ]
        }
      ]
    },
    {
      "cell_type": "code",
      "source": [
        "nota = 8.5\n",
        "disciplina = 'Algoritmos'\n",
        "s1 = 'Voce tirou %.2f na disciplina de %s' % (nota, disciplina)\n",
        "print(s1)"
      ],
      "metadata": {
        "colab": {
          "base_uri": "https://localhost:8080/"
        },
        "id": "05Ok-Twc9P8F",
        "outputId": "2defd6b7-610a-49c4-93f7-bbc6250e2462"
      },
      "execution_count": null,
      "outputs": [
        {
          "output_type": "stream",
          "name": "stdout",
          "text": [
            "Voce tirou 8.50 na disciplina de Algoritmos\n"
          ]
        }
      ]
    },
    {
      "cell_type": "code",
      "source": [
        "nota = 8.5\n",
        "disciplina = 'Algoritmos'\n",
        "s1 = 'Voce tirou {} na disciplina de {}' .format(nota, disciplina)\n",
        "print(s1)"
      ],
      "metadata": {
        "colab": {
          "base_uri": "https://localhost:8080/"
        },
        "id": "l1Wgc2nx_Ad1",
        "outputId": "c228358a-ecd5-4c1a-bc4d-8a4b95c059ab"
      },
      "execution_count": null,
      "outputs": [
        {
          "output_type": "stream",
          "name": "stdout",
          "text": [
            "Voce tirou 8.5 na disciplina de Algoritmos\n"
          ]
        }
      ]
    },
    {
      "cell_type": "code",
      "source": [
        "s1 = 'Logica de Programacao e Algoritmos'\n",
        "print(s1 [0:6])"
      ],
      "metadata": {
        "colab": {
          "base_uri": "https://localhost:8080/"
        },
        "id": "qOYkatfT_tsV",
        "outputId": "293803d7-7eba-4cec-ca4b-45afe57e81bd"
      },
      "execution_count": null,
      "outputs": [
        {
          "output_type": "stream",
          "name": "stdout",
          "text": [
            "Logica\n"
          ]
        }
      ]
    },
    {
      "cell_type": "code",
      "source": [
        "s1 = 'Logica de Programacao e Algoritmos'\n",
        "print(s1[24:34])"
      ],
      "metadata": {
        "colab": {
          "base_uri": "https://localhost:8080/"
        },
        "id": "bk6SfFEN_6dg",
        "outputId": "e0e7b32c-fb77-4ef1-eb45-48d2de66b2a1"
      },
      "execution_count": null,
      "outputs": [
        {
          "output_type": "stream",
          "name": "stdout",
          "text": [
            "Algoritmos\n"
          ]
        }
      ]
    },
    {
      "cell_type": "code",
      "source": [
        "s1 = 'Logica de Programacao e Algoritmos'\n",
        "print(s1[:6])"
      ],
      "metadata": {
        "colab": {
          "base_uri": "https://localhost:8080/"
        },
        "id": "3z7Ossd8AL3Y",
        "outputId": "4561f6e8-52d2-4d8c-8f0d-0fc9c6e2c80b"
      },
      "execution_count": null,
      "outputs": [
        {
          "output_type": "stream",
          "name": "stdout",
          "text": [
            "Logica\n"
          ]
        }
      ]
    },
    {
      "cell_type": "code",
      "source": [
        "s1 = 'Logica de Programacao e Algoritmos'\n",
        "tamanho = len(s1)\n",
        "print(tamanho)"
      ],
      "metadata": {
        "colab": {
          "base_uri": "https://localhost:8080/"
        },
        "id": "cQ_K-IVEAvIZ",
        "outputId": "4bec4075-a0a2-4732-a6fa-f37143e72412"
      },
      "execution_count": null,
      "outputs": [
        {
          "output_type": "stream",
          "name": "stdout",
          "text": [
            "34\n"
          ]
        }
      ]
    },
    {
      "cell_type": "code",
      "source": [
        "idade = input('Qual a sua idade?')\n",
        "print(idade)"
      ],
      "metadata": {
        "colab": {
          "base_uri": "https://localhost:8080/"
        },
        "id": "60VYMKcaB_Fx",
        "outputId": "91399739-e097-460a-e806-c33faee19a54"
      },
      "execution_count": null,
      "outputs": [
        {
          "output_type": "stream",
          "name": "stdout",
          "text": [
            "Qual a sua idade?20]\n",
            "20]\n"
          ]
        }
      ]
    },
    {
      "cell_type": "code",
      "source": [
        "idade = input('Qual a sua idade?')\n",
        "print(idade)"
      ],
      "metadata": {
        "colab": {
          "base_uri": "https://localhost:8080/"
        },
        "id": "3CTwYQXkCYZh",
        "outputId": "2c3fc01e-55eb-461e-9038-ed1bde08004d"
      },
      "execution_count": null,
      "outputs": [
        {
          "output_type": "stream",
          "name": "stdout",
          "text": [
            "Qual a sua idade?20\n",
            "20\n"
          ]
        }
      ]
    },
    {
      "cell_type": "code",
      "source": [
        "nome = input('Qual seu nome?')\n",
        "print('Ola {}, seja bem vindo!' .format(nome))"
      ],
      "metadata": {
        "colab": {
          "base_uri": "https://localhost:8080/"
        },
        "id": "MboiWvQSCcne",
        "outputId": "6de850cc-c912-4ea5-a01f-f5ee07518626"
      },
      "execution_count": null,
      "outputs": [
        {
          "output_type": "stream",
          "name": "stdout",
          "text": [
            "Qual seu nome?Victor\n",
            "Ola Victor, seja bem vindo!\n"
          ]
        }
      ]
    },
    {
      "cell_type": "code",
      "source": [
        "nota = float(input('Qual nota voce recebu na disciplina?'))\n",
        "print('Voce tirou nota {}.'.format(nota))"
      ],
      "metadata": {
        "colab": {
          "base_uri": "https://localhost:8080/"
        },
        "id": "lNZhdrAODMfk",
        "outputId": "e103de35-a4ae-4bd3-98a9-54a55803fa6d"
      },
      "execution_count": null,
      "outputs": [
        {
          "output_type": "stream",
          "name": "stdout",
          "text": [
            "Qual nota voce recebu na disciplina?9.2\n",
            "Voce tirou nota 9.2.\n"
          ]
        }
      ]
    },
    {
      "cell_type": "code",
      "source": [
        "x = int(input('Digite um numero inteiro: '))\n",
        "y = int(input('Digite outro numero inteiro: '))\n",
        "# Maneira clássica #\n",
        "res = 'O resultado da soma de %i com %i é %i.' % (x, y, x + y)\n",
        "print(res)\n",
        "# Maneira moderna #\n",
        "res + 'O resultado da soma de {} com {} é {}.'.format(x, y, x + y)\n",
        "print(res)\n"
      ],
      "metadata": {
        "colab": {
          "base_uri": "https://localhost:8080/"
        },
        "id": "RVtE9D5ED9vw",
        "outputId": "7bc142c1-c8b8-46b5-ac15-fd4a6e6c3023"
      },
      "execution_count": null,
      "outputs": [
        {
          "output_type": "stream",
          "name": "stdout",
          "text": [
            "Digite um numero inteiro: 5\n",
            "Digite outro numero inteiro: 7\n",
            "O resultado da soma de 5 com 7 é 12.\n",
            "O resultado da soma de 5 com 7 é 12.\n"
          ]
        }
      ]
    },
    {
      "cell_type": "code",
      "source": [
        "Nome = input ('Qual o seu nome?')\n",
        "Idade = input ('Qual sua a idade?')\n",
        "Profissão = input ('Qual a sua profissão?')\n",
        "# Maneira clássica #\n",
        "res = 'Olá, %s, bom dia! Fico feliz por estar bem! Jovem né apenas %s! Nossa! Já esta trabalhando como %s.' % (Nome,Idade,Profissão)\n",
        "print(res)\n",
        "# Maneira moderna #\n",
        "res = 'Olá, {}, bom dia! Fico feliz por estar bem! Jovem né apenas {} ! Nossa! Já esta trabalhando como {}.'.format(Nome,Idade,Profissão)\n",
        "print(res)"
      ],
      "metadata": {
        "id": "qtw064IvEntw"
      },
      "execution_count": null,
      "outputs": []
    },
    {
      "cell_type": "code",
      "source": [],
      "metadata": {
        "id": "fmJSwvLzEsQZ"
      },
      "execution_count": null,
      "outputs": []
    },
    {
      "cell_type": "markdown",
      "source": [
        "# Aula 2 Algoritmos sequenciais. Dados, Variaveis e Comandos de entrada e saida"
      ],
      "metadata": {
        "id": "toiprH8kLCKX"
      }
    },
    {
      "cell_type": "code",
      "source": [
        "\"\"\"Aula prática 2 = Algoritimos sequencias, dados, variáveis e comandos de entrada e saída\"\"\"\n",
        "\n",
        "# Expressões algébricas\n",
        "# Escreva as seguintes expressões algébricas em linguagem python:\n",
        "# A) O somatório dos 5 primeiros números inteteiros positivos\n",
        "# B) A média entre 23,19 e 31\n",
        "# C) O número de vezes que que 73 cabe em 403\n",
        "# D) A sobra quando 403 é dividido por 73\n",
        "# E) 2 elevedo a 10 potência\n",
        "# F) O valor absoluto da diferença entre 54 e 57\n",
        "# G) O menor valor entre 34,29 e 31\n",
        "\n",
        "# Respostas\n",
        "\n",
        "print(1 + 2 + 3 + 4 + 5)\n",
        "print((23 + 19 + 31) / 3)\n",
        "print(403 // 73)\n",
        "print(403 % 73)\n",
        "print(2**10)\n",
        "print(abs(54 - 57))\n",
        "print(min(34, 29, 31))\n",
        "\n",
        "# Atribuição:\n",
        "# 1) Escreva as expressões em pythn para:\n",
        "# A) Atribuir o valor interiro a variavel \"a\"\n",
        "# B) Atribuir o valor 4 a variavel \"b\"\n",
        "# C) Atribuir a variave c o valor da expressão a*a+b*b\n",
        "\n",
        "a = 3\n",
        "b = 4\n",
        "c = a*a + b*b\n",
        "\n",
        "# Strings\n",
        "# 1. Execute as seguintes atribuições\n",
        "# A) s1 = 'ant'\n",
        "# B) s2 = 'bat'\n",
        "# C) s3 = 'cod'\n",
        "\n",
        "s1 = 'ant'\n",
        "s2 = 'bat'\n",
        "s3 = 'cod'\n",
        "\n",
        "print(s1 + ' ' + s2 + ' ' + s3)\n",
        "print(10 * (s1 + ' '))\n",
        "print(s1 + ' ' + 2 * (s2 + '') + ' ' + 3 * (s3 + ''))\n",
        "print(s1 + ' '+s2 +' ' +s1 + ' '+s2 + ' '+s1 + ' '+s2 +' ' +s1 + ' '+s2)\n",
        "print(2 * (s2) + s3 + ' ' + 2 * (s2) + s3+ ' '+ 2 * (s2) + s3 + ' '+ 2 * (s2) + s3)\n",
        "\n",
        "# Exercício 1 da apostila\n",
        "# Desenvolva um algoritmo que solicite ao usuário o preço de um produto e um percentual de desconto a ser aplicado por ele. Calcula e exiba o valor do desconto e o preço final do procuto (exercício da apostila - aula 2)\n",
        "\n",
        "preco = float(input('Digite o peço do produto:'))\n",
        "p = float(input('Digite o percentual de desconto (0-100):'))\n",
        "\n",
        "desconto = preco * (p / 100)\n",
        "final = preco - desconto\n",
        "\n",
        "print('O preço do produto é {}. Desconto de {}%.'.format(preco, p))\n",
        "print('Valor calculado de desconto: {}. Valor final do produto: {}'.format(desconto, final))\n",
        "\n",
        "# Exercício 2 da apostila #\n",
        "# Escreva um programa que pergunte a quantidade de km percorridos por um carro alugado pelo usuário, assim como a quantidade de dias pelos quais o carro foi algugado. Calcule o preço a pagar, sabendo que o carro custa R$ 60 por dia e T$0,15 por km rodado:#\n",
        "\n",
        "km = int(input('Quantos Km foram percorridos?'))\n",
        "dia = int(input('Por quantos dias ele foi alugado?'))\n",
        "\n",
        "preco = 60 * dias * 0.15 * km\n",
        "print('Km = {}. Dias: {}'.format(km, dias))\n",
        "print('Valor a ser pago: {}'.format(preco))\n",
        "\n",
        "# Exercício 3 da apostila\n",
        "# Crie uma variável de string que receba uma frase qualquer. Crie uma segunda variável, agora contendo a metade da string digitada. Imprima na tela somente os dois último caracteres da segunda variável do tipo string.\n",
        "\n",
        "frase = input('Digite uma frase:')\n",
        "tam = len(frase)\n",
        "\n",
        "frase2 = frase[:int(tam/2)]\n",
        "print(frase2[-2:])\n"
      ],
      "metadata": {
        "id": "h4OrGHuELKbQ"
      },
      "execution_count": null,
      "outputs": []
    },
    {
      "cell_type": "markdown",
      "source": [
        "# Aula 3 ALGORITMOS SEQUENCIAIS"
      ],
      "metadata": {
        "id": "KfySBO9w2swx"
      }
    },
    {
      "cell_type": "markdown",
      "source": [
        "Exercicio\n",
        "\n",
        "* Desenvolva um programa que lê dois valores numericos inteiros e compara se o primeiro é maior do que o segundo, utilizando uma condicional simples\n",
        "* Caso seja (resultado verdadeiro), ele imprime na tela a mensagem informando que o primeiro valor digitado é maior do que o segundo\n",
        "\n",
        "ATENÇÃO COM A INDENTAÇÃO!!!"
      ],
      "metadata": {
        "id": "8HCozQYL2xer"
      }
    },
    {
      "cell_type": "markdown",
      "source": [
        "CONDICIONAL SIMPLES"
      ],
      "metadata": {
        "id": "h32TGlQ34hYk"
      }
    },
    {
      "cell_type": "code",
      "source": [
        "#lê dois valores inteiros e compara ambos\n",
        "x = int(input('Digite um valor inteiro: '))\n",
        "y = int(input('Digite um segundo valor inteiro: '))\n",
        "if (x > y):\n",
        "  print('O primeiro valor é maior que o segundo! ')"
      ],
      "metadata": {
        "colab": {
          "base_uri": "https://localhost:8080/"
        },
        "id": "ITWsHi2I4j_Y",
        "outputId": "d8277c8d-be32-45e8-8f3e-f1bb9182d75f"
      },
      "execution_count": null,
      "outputs": [
        {
          "output_type": "stream",
          "name": "stdout",
          "text": [
            "Digite um valor inteiro: 8\n",
            "Digite um segundo valor inteiro: 3\n",
            "O primeiro valor é maior que o segundo! \n"
          ]
        }
      ]
    },
    {
      "cell_type": "markdown",
      "source": [
        "CONDICIONAL COMPOSTA"
      ],
      "metadata": {
        "id": "L1EnIGvR5r-D"
      }
    },
    {
      "cell_type": "markdown",
      "source": [
        "Exercicio \n",
        "\n",
        "* Desenvolva um programa que lê um valor inteiro e descobre se ele é par ou impar"
      ],
      "metadata": {
        "id": "w2-tKQLG7QII"
      }
    },
    {
      "cell_type": "code",
      "source": [
        "# par ou impar\n",
        "x = int(input('Digite um valor inteiro: '))\n",
        "if (x % 2 == 0):\n",
        "  print('O numero é par!')\n",
        "else:\n",
        "  print(' O numero é impar!')"
      ],
      "metadata": {
        "colab": {
          "base_uri": "https://localhost:8080/"
        },
        "id": "rirt-VUB7fku",
        "outputId": "d5c68593-2b38-499c-8b90-f47a5f3cd869"
      },
      "execution_count": null,
      "outputs": [
        {
          "output_type": "stream",
          "name": "stdout",
          "text": [
            "Digite um valor inteiro: 4\n",
            "O numero é par!\n"
          ]
        }
      ]
    },
    {
      "cell_type": "markdown",
      "source": [
        "OPERADORES LÓGICOS/BOOLEANOS"
      ],
      "metadata": {
        "id": "x6fbUFaPBeXV"
      }
    },
    {
      "cell_type": "code",
      "source": [
        "# not\n",
        "x = True\n",
        "y = False\n",
        "print(not x)\n",
        "print(not y)\n"
      ],
      "metadata": {
        "colab": {
          "base_uri": "https://localhost:8080/"
        },
        "id": "cG8DvYBbBkVk",
        "outputId": "4e935d23-be7d-4b0c-dec4-20ba8d3e915a"
      },
      "execution_count": null,
      "outputs": [
        {
          "output_type": "stream",
          "name": "stdout",
          "text": [
            "False\n",
            "True\n"
          ]
        }
      ]
    },
    {
      "cell_type": "code",
      "source": [
        "# and\n",
        "x = True\n",
        "y = False\n",
        "print(x and y)\n"
      ],
      "metadata": {
        "colab": {
          "base_uri": "https://localhost:8080/"
        },
        "id": "lSgDP16sB3bf",
        "outputId": "82d5c27b-faea-4774-cd86-56a5297b9209"
      },
      "execution_count": null,
      "outputs": [
        {
          "output_type": "stream",
          "name": "stdout",
          "text": [
            "False\n"
          ]
        }
      ]
    },
    {
      "cell_type": "code",
      "source": [
        "# or \n",
        "x = True\n",
        "y = False\n",
        "print(x or y)"
      ],
      "metadata": {
        "colab": {
          "base_uri": "https://localhost:8080/"
        },
        "id": "qf-kOvKeCBPz",
        "outputId": "786c8c22-1138-4253-a837-798ed98a6df7"
      },
      "execution_count": null,
      "outputs": [
        {
          "output_type": "stream",
          "name": "stdout",
          "text": [
            "True\n"
          ]
        }
      ]
    },
    {
      "cell_type": "markdown",
      "source": [
        "EXPRESSÕES LOGICAS/BOOLEANAS\n",
        "\n",
        "\n"
      ],
      "metadata": {
        "id": "RkIbzhGSCZ9l"
      }
    },
    {
      "cell_type": "code",
      "source": [
        "x = 10\n",
        "y = 1\n",
        "res = not x > y\n",
        "print(res)"
      ],
      "metadata": {
        "colab": {
          "base_uri": "https://localhost:8080/"
        },
        "id": "ESPy_jA5CgQJ",
        "outputId": "0c66eb5c-f9bb-43dc-a906-f38a05f190b8"
      },
      "execution_count": null,
      "outputs": [
        {
          "output_type": "stream",
          "name": "stdout",
          "text": [
            "False\n"
          ]
        }
      ]
    },
    {
      "cell_type": "code",
      "source": [
        "x = 10\n",
        "y = 1\n",
        "z = 5.5\n",
        "res = (x > y) and (z == y)\n",
        "print(res)"
      ],
      "metadata": {
        "colab": {
          "base_uri": "https://localhost:8080/"
        },
        "id": "zyVOrUd-EDAU",
        "outputId": "8aeb6134-4b93-48d6-bcee-28dcd5441c54"
      },
      "execution_count": null,
      "outputs": [
        {
          "output_type": "stream",
          "name": "stdout",
          "text": [
            "False\n"
          ]
        }
      ]
    },
    {
      "cell_type": "markdown",
      "source": [
        "EXERCICIOS\n",
        "\n",
        "Um aluno, para passar de ano, precisa ser aprovado em todas as matérias que está cursando. Assuma que a média para aprovação é a partir de 7, e que o aluno cursa 3 matérias, somente.\n",
        "Escreva um algoritmo que leia a ntoa final do aluno em cada matéria e informe, na tela, se ele passou de ano ou não."
      ],
      "metadata": {
        "id": "KrKcWKRGEir6"
      }
    },
    {
      "cell_type": "code",
      "source": [
        "# Exercicio 3.3.1\n",
        "m1 = float(input('Digite a nota da primeira materia:'))\n",
        "m2 = float(input('Digite a nota da segunda materia:'))\n",
        "m3 = float(input('Digite a nota da terceira materia:'))\n",
        "if m1 >= 7 and m2 >= 7 and m3 >= 7:\n",
        "  print('O aluno esta aprovado de ano!');\n",
        "else:\n",
        "  print('O aluno nao passou de ano!');"
      ],
      "metadata": {
        "colab": {
          "base_uri": "https://localhost:8080/"
        },
        "id": "Mw7K99FpFC3o",
        "outputId": "db4320af-b45e-40c4-b49d-762903e276cb"
      },
      "execution_count": null,
      "outputs": [
        {
          "output_type": "stream",
          "name": "stdout",
          "text": [
            "Digite a nota da primeira materia:7.8\n",
            "Digite a nota da segunda materia:9.1\n",
            "Digite a nota da terceira materia:5.4\n",
            "O aluno nao passou de ano!\n"
          ]
        }
      ]
    },
    {
      "cell_type": "markdown",
      "source": [
        "CONDICIONAIS ANINHADAS\n",
        "\n",
        "Escreva um algoritmo em python em que o usuário escolhe se quer comprar maçãs, laranjas ou bananas.\n",
        "Deverá ser apresentado na tela um menu com as opções: 1 para maçã, 2 para laranja e 3 para banana.\n",
        "Após escolhida a fruta, deve-se digitar quantas unidades se quer comprar. O algoritmo deve calcular o preço total a pagar do produto escolhido e motrá-lo na tela.\n",
        "Considere que uma maçã custa R$ 2,30, uma laranja, R$3,60, e uma banana, R$1,85."
      ],
      "metadata": {
        "id": "JL8bUCdlIYmg"
      }
    },
    {
      "cell_type": "code",
      "source": [
        "# Exercicio 4.1.1\n",
        "print('Escolha o que deseja comprar:')\n",
        "print('1 - Maca')\n",
        "print('2 - Laranja')\n",
        "print('3 - Banana')\n",
        "produto = int(input('Qual sua escolha?'))\n",
        "qtd = int(input('Quantas unidades?'))\n",
        "if (produto == 1):\n",
        "  pagar = qtd * 2.3\n",
        "  print('Voce comprou {} macas. Total a pagar: {}'.format(qtd, pagar))\n",
        "else:\n",
        "  if (produto == 2):\n",
        "    pagar = qtd * 3.6\n",
        "    print('Voce comprou {} laranjas. Total a pagar: {}'.format(qtd, pagar))\n",
        "  else:\n",
        "    if (produto == 3):\n",
        "      pagar = qtd * 1.85\n",
        "      print('Voce comprou {} bananas. Total a pagar: {}'.format(qtd, pagar))\n",
        "    else:\n",
        "      print('Produto inexistente!')"
      ],
      "metadata": {
        "colab": {
          "base_uri": "https://localhost:8080/"
        },
        "id": "O9Dw7miIIw9x",
        "outputId": "94b50a7b-422d-45cc-c85e-06bf674509f1"
      },
      "execution_count": null,
      "outputs": [
        {
          "output_type": "stream",
          "name": "stdout",
          "text": [
            "Escolha o que deseja comprar:\n",
            "1 - Maca\n",
            "2 - Laranja\n",
            "3 - Banana\n",
            "Qual sua escolha?3\n",
            "Quantas unidades?5\n",
            "Voce comprou 5 bananas. Total a pagar: 9.25\n"
          ]
        }
      ]
    },
    {
      "cell_type": "markdown",
      "source": [
        "CONDICIONAIS DE MULTIPLA ESCOLHA\n",
        "\n",
        "Refazendo o exercicio anterior com ELIF"
      ],
      "metadata": {
        "id": "m2Fp68UvM_Zw"
      }
    },
    {
      "cell_type": "code",
      "source": [
        "# Exercicio 4.1.1 COM ELIF\n",
        "print('Escolha o que deseja comprar:')\n",
        "print('1 - Maca')\n",
        "print('2 - Laranja')\n",
        "print('3 - Banana')\n",
        "produto = int(input('Qual sua escolha?'))\n",
        "qtd = int(input('Quantas unidades?'))\n",
        "if (produto == 1):\n",
        "  pagar = qtd * 2.3\n",
        "  print('Voce comprou {} macas. Total a pagar: {}'.format(qtd, pagar))\n",
        "elif (produto == 2):\n",
        "    pagar = qtd * 3.6\n",
        "    print('Voce comprou {} laranjas. Total a pagar: {}'.format(qtd, pagar))\n",
        "elif (produto == 3):\n",
        "      pagar = qtd * 1.85\n",
        "      print('Voce comprou {} bananas. Total a pagar: {}'.format(qtd, pagar))\n",
        "else:\n",
        "      print('Produto inexistente!')"
      ],
      "metadata": {
        "colab": {
          "base_uri": "https://localhost:8080/"
        },
        "id": "rIAp_sLFNHx-",
        "outputId": "7f29c205-fbf1-43af-fc86-91efaaffb30c"
      },
      "execution_count": null,
      "outputs": [
        {
          "output_type": "stream",
          "name": "stdout",
          "text": [
            "Escolha o que deseja comprar:\n",
            "1 - Maca\n",
            "2 - Laranja\n",
            "3 - Banana\n",
            "Qual sua escolha?1\n",
            "Quantas unidades?2\n",
            "Voce comprou 2 macas. Total a pagar: 4.6\n"
          ]
        }
      ]
    },
    {
      "cell_type": "markdown",
      "source": [
        "com elif (if + else), nao é preciso se preocupar com os recuos do codigo "
      ],
      "metadata": {
        "id": "WAcSPO1ENryy"
      }
    },
    {
      "cell_type": "markdown",
      "source": [
        "EXERCICIO 2\n",
        "\n",
        "Escreva um algortimo que le um nome e uma idade \n",
        " Caso o nome digitado seja Vinicius, escreva isso na tela\n",
        " Caso o usuario digite qualquer outro nome, verifique sua idade. Se for menor que 18 anos, informe que é de menor. Se for maior que 100 anos, informe que esta pessoa possivelmenente nao existe"
      ],
      "metadata": {
        "id": "ooIYNP9YOh3F"
      }
    },
    {
      "cell_type": "code",
      "source": [
        "nome = input('Qual seu nome?')\n",
        "idade = int(input('Qual sua idade?'))\n",
        "if nome == 'Vinicius':\n",
        "  print('Ola, Vinicius!')\n",
        "elif idade < 18:\n",
        "  print ('Voce nao e o Vinicius! E é menor de idade!')\n",
        "elif idade > 100:\n",
        "  print('Dieferente de voce, o Vinicius nao e imortal!')"
      ],
      "metadata": {
        "colab": {
          "base_uri": "https://localhost:8080/"
        },
        "id": "z2HJFeGKPG5d",
        "outputId": "40ccdf40-b4ac-40ba-d26b-70eed96bfa38"
      },
      "execution_count": null,
      "outputs": [
        {
          "output_type": "stream",
          "name": "stdout",
          "text": [
            "Qual seu nome?Victor\n",
            "Qual sua idade?110\n",
            "Dieferente de voce, o Vinicius nao e imortal!\n"
          ]
        }
      ]
    },
    {
      "cell_type": "code",
      "source": [
        "# ATIVIDADE PRATICA#\n",
        "\n",
        "# EXPRESSOES BOOLEANAS\n",
        "\n",
        "# Escreva as seguintes expressões booleanas\n",
        "# em linguagem Python:\n",
        "# a) O somatório de 2 com 2 é menor do que 4\n",
        "# b) O valor 7 // 3 é igual a 1 + 1\n",
        "# c) A soma de 3 elevado ao quadrado com 4\n",
        "# elevado ao quadrado é igual a 25\n",
        "# d) A soma de 2, 4 e 6 é maior do que 12\n",
        "\n",
        "print(2 + 2 < 4)\n",
        "\n",
        "print(7 // 3 == 1 + 1)\n",
        "\n",
        "print(3**2 + 4**2 == 25)\n",
        "\n",
        "print(2 + 4 + 6 > 12)\n",
        "\n",
        "# CONDICIONAL SIMPLES\n",
        "# Traduza as afirmações a seguir para condicionais\n",
        "# em Python:\n",
        "# a) Se idade é maior que 60, escreva: “Você tem\n",
        "# direitos aos benefícios”\n",
        "# b) Se dano é maior do que 10 e escudo é igual a\n",
        "# 0, escreva: “Você está morto!”\n",
        "# c) Se pelo menos uma das variáveis booleanas\n",
        "# norte, sul, leste e oeste resultarem em True,\n",
        "# escreva: “Você escapou!”\n",
        "\n",
        "if (idade > 60):\n",
        "  print('Voce tem direitos aos beneficios!')\n",
        "\n",
        "if (dano > 10 and escudo == 0):\n",
        "  print('Voce esta morto!')\n",
        "\n",
        "if (norte or sul or leste or oeste):\n",
        " print('Voce escapou!')\n",
        "\n",
        "#Traduza as afirmações a seguir para condicionais em Python:\n",
        "# a) Se ano é divisível por 4, escreva: “Pode ser um ano bissexto”.\n",
        "# Caso contrário, escreva:\n",
        "# Definitivamente não é um ano bissexto”\n",
        "# b) Se ambas as variáveis booleanas cima e\n",
        "# baixo forem True, escreva: “Decida-se!”,\n",
        "# caso contrário, escreva: “Você escolheu\n",
        "# um caminho!”\n",
        "\n",
        "if (ano // 4):\n",
        "  print('Pode ser um ano bissexto')\n",
        "else:\n",
        "  if (ano not // 4):\n",
        "    print('Definitivamente nao e um ano bissexto')\n",
        "\n",
        "if (cima or baixo):\n",
        "  print('Decida-se!')\n",
        "\n",
        "else:\n",
        "   print('Voce escolheu um caminho!')\n",
        "\n",
        "# EXERICIO 1\n",
        "#Faça um algoritmo que receba três valores,\n",
        "# representando os lados de um triângulo\n",
        "# fornecidos pelo usuário. Verifique se os\n",
        "# valores formam um triângulo e classifique\n",
        "# como:\n",
        "# a) Equilátero (três lados iguais)\n",
        "# b) Isósceles (dois lados iguais)\n",
        "# c) Escaleno (três lados diferentes)\n",
        "\n",
        "#Lembre-se de que, para formar um triângulo,\n",
        "# nenhum dos lados pode ser igual a zero, e um\n",
        "# lado não pode ser maior do que a soma dos\n",
        "# outros dois (exercício da apostila – aula 3)\n",
        "\n",
        "A = int(input('Digite o primeiro lado da triangulo:'))\n",
        "B = int(input('Digite o segundo lado da triangulo:'))\n",
        "C = int(input('Digite o terceiro lado da triangulo:'))\n",
        "\n",
        "if (A > 0) and (B > 0) and (C > 0):\n",
        "  if (A + B > C) and (A + C > B) and (B + C > A):\n",
        "   #Se voce chegou ate aqui, e porque o triangulo e valido!\n",
        "      if A != B and A != C and B != C:\n",
        "        print('Triangulo escaleno!')\n",
        "      else:\n",
        "        if A == B and A == C and B == C:\n",
        "          print('Triangulo equilatero!')\n",
        "        else:\n",
        "          print('Triangulo isosceles!')\n",
        "  else:\n",
        "    print('Ao menos um dos valores indicados nao servem para formar um traiangulo')\n",
        "else:\n",
        "  print('Ao menos um dos valores indicados nao servem para formar um traiangulo')\n",
        "\n",
        "# EXERCICIO 2\n",
        "# Escreva um algoritmo que leia dois valores\n",
        "# numéricos e que pergunte ao usuário qual\n",
        "# operação ele deseja realizar: adição (+),\n",
        "# subtração (-), multiplicação (*) ou divisão\n",
        "# (/). Exiba na tela o resultado da operação\n",
        "# desejada (exercício da apostila – aula 3)\n",
        "\n",
        "print('CALCULADORA')\n",
        "print(' + Adicao')\n",
        "print(' - Subtracao')\n",
        "print(' * Multiplicacao')\n",
        "print(' / Divisao')\n",
        "print('Pressione outra tecla para sair')\n",
        "\n",
        "op = input('Qual operacao deseja fazer?')\n",
        "if op == '+' or op == '-' or op == '*' or op == '/':\n",
        "x = int(input('Digite o primeiro valor:'))\n",
        "y = int(input('Digite o segundo valor:'))\n",
        "\n",
        "if (op == '+'):\n",
        "    res = x + y\n",
        "    print('Resultado: {} + {} = {}'.format(x, y, res))\n",
        "elif (op == '-'):\n",
        "    res = x - y\n",
        "  print('Resultado: {} - {} = {}'.format(x, y, res))\n",
        "elif (op == '*'):\n",
        "    res = x * y\n",
        "    print('Resultado: {} * {} = {}'.format(x, y, res))\n",
        "elif (op == '/'):\n",
        "    res = x / y\n",
        "    print('Resultado: {} / {} = {}'.format(x, y, res))\n",
        "else:\n",
        "    print('Operacao Invalida.')\n",
        "\n",
        "print('Encerrando o programa...')\n",
        "\n",
        "# EXERCICIO 3\n",
        "#Escreva um programa que calcule o preço a\n",
        "# pagar pelo fornecimento de energia elétrica.\n",
        "# Pergunte a quantidade de kWh consumida e o\n",
        "# tipo de instalação: R para residências, I para\n",
        "# indústrias e C para comércios\n",
        "# Calcule o preço de acordo com a tabela a\n",
        "# seguir:\n",
        "# Preço por tipo e faixa de consumo\n",
        "# Tipo Faixa (kWh) Preço (R$)\n",
        "# Residencial\n",
        "# Até 500 0,40\n",
        "# Acima de 500 0,65\n",
        "# Comercial\n",
        "# Até 1000 0,55\n",
        "# Acima de 1000 0,60\n",
        "# Industrial\n",
        "# Até 5000 0,55\n",
        "# Acima de 5000 0,60\n",
        "\n",
        "kwh = float(input('Quantos kwh?'))\n",
        "tipo = input('Qual o tipo de instalacao (R, C ou I)')\n",
        "\n",
        "if (tipo == 'R'):\n",
        "  if kwh <= 500:\n",
        "      preco = 0.4\n",
        "  else:\n",
        "      preco = 0.65\n",
        "elif (tipo == 'C'):\n",
        "  if kwh <= 1000:\n",
        "    preco = 0.55\n",
        "  else:\n",
        "    preco = 0.6\n",
        "elif (tipo == 'I'):\n",
        "  if kwh <= 5000:\n",
        "    preco = 0.55\n",
        "  else:\n",
        "    preco = 0.6\n",
        "else:\n",
        "  print('Instalaçao Invalida!')\n",
        "  \n",
        "print('Total a pagar: {}'.format(kwh * preco))"
      ],
      "metadata": {
        "id": "g7s5UVF-Z-I0"
      },
      "execution_count": null,
      "outputs": []
    },
    {
      "cell_type": "markdown",
      "source": [
        "# AULA 4 ESTRUTURA DE REPETICAO"
      ],
      "metadata": {
        "id": "PhCCauKjALoI"
      }
    },
    {
      "cell_type": "code",
      "source": [
        "x = 1\n",
        "print(x)\n",
        "x = x + 1\n",
        "print(x)\n",
        "x = x + 1\n",
        "print(x)\n",
        "x = x + 1\n",
        "print(x)\n",
        "x = x + 1\n",
        "print(x)"
      ],
      "metadata": {
        "colab": {
          "base_uri": "https://localhost:8080/"
        },
        "id": "xl4HS3EVASOY",
        "outputId": "09929470-d08a-4e84-f96b-1f8ea6d40c1d"
      },
      "execution_count": null,
      "outputs": [
        {
          "output_type": "stream",
          "name": "stdout",
          "text": [
            "1\n",
            "2\n",
            "3\n",
            "4\n",
            "5\n"
          ]
        }
      ]
    },
    {
      "cell_type": "code",
      "source": [],
      "metadata": {
        "id": "9MgEmk3HBBL3"
      },
      "execution_count": null,
      "outputs": []
    },
    {
      "cell_type": "markdown",
      "source": [
        "2. Estrutura de repeticao while (enquanto)"
      ],
      "metadata": {
        "id": "3wuJbU6mBCh-"
      }
    },
    {
      "cell_type": "code",
      "source": [
        "x = 1 \n",
        "while (x <= 5):\n",
        "  print(x)\n",
        "  x = x + 1"
      ],
      "metadata": {
        "colab": {
          "base_uri": "https://localhost:8080/"
        },
        "id": "RrEO97UrBK7T",
        "outputId": "e6c3e53b-980c-4755-b89f-c68ebe79ec1f"
      },
      "execution_count": null,
      "outputs": [
        {
          "output_type": "stream",
          "name": "stdout",
          "text": [
            "1\n",
            "2\n",
            "3\n",
            "4\n",
            "5\n"
          ]
        }
      ]
    },
    {
      "cell_type": "code",
      "source": [
        "x = 1\n",
        "while (x <= 5):\n",
        " print(x)\n",
        "  # x = x + 1\n",
        "\n",
        "  # erro continua para sempre #"
      ],
      "metadata": {
        "id": "RYfvgG4VBkJQ"
      },
      "execution_count": null,
      "outputs": []
    },
    {
      "cell_type": "code",
      "source": [
        "x = 0\n",
        "while (x <= 99):\n",
        "  print(x)\n",
        "  x = x + 1"
      ],
      "metadata": {
        "id": "VOPR_jIKB55x"
      },
      "execution_count": null,
      "outputs": []
    },
    {
      "cell_type": "code",
      "source": [
        "x = 0\n",
        "while ( x < 100):\n",
        "  print(x)\n",
        "  x = x + 1"
      ],
      "metadata": {
        "id": "yakVAqMcCLzv"
      },
      "execution_count": null,
      "outputs": []
    },
    {
      "cell_type": "code",
      "source": [
        "# VARIAVEL CONTADORAS\n",
        "# Exercicio com o contador \n",
        "# Escreva um algoritmo que imprima na tela somente valores\n",
        "# dentro de um intervalo especificado pelo usuario e que sejam numeros pares"
      ],
      "metadata": {
        "id": "4d4mlATXCV68"
      },
      "execution_count": null,
      "outputs": []
    },
    {
      "cell_type": "code",
      "source": [
        "  inicial = int(input('Qual valor deseja iniciar a contagem?'))\n",
        "  final = int(input('Qual valor deseja encerrar a contagem?'))\n",
        "  x = inicial\n",
        "  while (x <= final):\n",
        "    if (x % 2 == 0):\n",
        "      print(x)\n",
        "    x = x + 1"
      ],
      "metadata": {
        "colab": {
          "base_uri": "https://localhost:8080/"
        },
        "id": "vs6YES9QEKOW",
        "outputId": "bcc4dc16-bcc7-4342-aa80-fc20ff1a92e8"
      },
      "execution_count": null,
      "outputs": [
        {
          "output_type": "stream",
          "name": "stdout",
          "text": [
            "Qual valor deseja iniciar a contagem?5\n",
            "Qual valor deseja encerrar a contagem?10\n",
            "6\n",
            "8\n",
            "10\n"
          ]
        }
      ]
    },
    {
      "cell_type": "markdown",
      "source": [
        " VARIAVEL ACUMULADORAS\n",
        "\n",
        " Escreva um algoritmo que calcule a sua media de notas em determinada disciplina\n",
        " Vamos assumir que a media final e dada pela media aritmetica de cinco notas digitadas"
      ],
      "metadata": {
        "id": "GdOAKm0iFJmX"
      }
    },
    {
      "cell_type": "code",
      "source": [
        "soma = 0\n",
        "cont = 1\n",
        "while |(cont <= 5):\n",
        "  x = float(input('Digite a {} nota:'.format(cont)))\n",
        "  soma = soma + x\n",
        "  cont = cont + 1\n",
        "media = soma / 5\n",
        "print('Media final: {}'.format(media))  "
      ],
      "metadata": {
        "id": "6M-aNSRaFkbk"
      },
      "execution_count": null,
      "outputs": []
    },
    {
      "cell_type": "markdown",
      "source": [
        " 3.  CARACTERISTICAS E RECURSOS AVANÇADOS DE LAÇOS EM PYTHON"
      ],
      "metadata": {
        "id": "W6ZX47KKGeNR"
      }
    },
    {
      "cell_type": "markdown",
      "source": [
        "Operadores especiais de atribuicao"
      ],
      "metadata": {
        "id": "76JGTBQkHytY"
      }
    },
    {
      "cell_type": "code",
      "source": [
        "soma = o\n",
        "cont = 1 \n",
        "while (cont <= 5):\n",
        "  x = int(input('Digite o {} numero:'.format(cont)))\n",
        "  soma += x # Equivalente: soma = soma + x\n",
        "  cont += 1 # Equivalente: cont = cont + 1\n",
        " print( 'Somatorio: {}'.format(soma)) "
      ],
      "metadata": {
        "id": "je5_x41ZH-GJ"
      },
      "execution_count": null,
      "outputs": []
    },
    {
      "cell_type": "markdown",
      "source": [
        "Validando dados de entrada com um loop\n"
      ],
      "metadata": {
        "id": "mFbHbECRIt9W"
      }
    },
    {
      "cell_type": "code",
      "source": [
        "#Ex: Crie um algoritmo que receba um valor do tipo inteiro via teclado\n",
        "# No entanto. o programa só deve aceitar, obrigatoriament, valores inteiros e positivos\n",
        "# Qualquer valor negativo, ou igual a zero, deve ser rejeitado pelo programa e um novo valor deve ser solicitado\n",
        "\n",
        "# validando a entrada \n",
        "\n",
        "x = int(input('Digite um valor maior do que zero: '))\n",
        "while (x <= 0):\n",
        "  x = int(input('Digite um valor maior do que zero: '))\n",
        "print('Voce digitou {}. Encerrando o programa...'.format(x)) "
      ],
      "metadata": {
        "id": "H1ddgWUhJb-X"
      },
      "execution_count": null,
      "outputs": []
    },
    {
      "cell_type": "markdown",
      "source": [
        "Interrompendo um loop com break"
      ],
      "metadata": {
        "id": "RxmUd2VDKDLa"
      }
    },
    {
      "cell_type": "code",
      "source": [
        "# Ex. Escreva um algoritmo que fique recebendo frases ou palavras digitadas pelo usuario\n",
        "# Encerre o algoritmo quando a palavra sair for digitada\n",
        "\n",
        "print('Digite uma mensagem que irei repetir para voce!')\n",
        "print('Para encerrar escreva \"sair\".')\n",
        "while True:\n",
        "  texto = input('')\n",
        "  print(texto)\n",
        "  if texto == 'sair':\n",
        "    break\n",
        "print('Encerrando o programa...')    "
      ],
      "metadata": {
        "colab": {
          "base_uri": "https://localhost:8080/"
        },
        "id": "0FQfkJR6KMdU",
        "outputId": "5fb7a37b-55b2-46a6-d6e7-c51d599d0b8f"
      },
      "execution_count": null,
      "outputs": [
        {
          "output_type": "stream",
          "name": "stdout",
          "text": [
            "Digite uma mensagem que irei repetir para voce!\n",
            "Para encerrar escreva \"sair\".\n",
            "loop\n",
            "loop\n",
            "infinito\n",
            "infinito\n",
            "sair\n",
            "sair\n",
            "Encerrando o programa...\n"
          ]
        }
      ]
    },
    {
      "cell_type": "markdown",
      "source": [
        " Voltando ao inico do laço com continue"
      ],
      "metadata": {
        "id": "eHnABtz6MNWe"
      }
    },
    {
      "cell_type": "code",
      "source": [
        "#Ex. Escreva um algoritmo que realize um login em um sistema\n",
        "#O usuario deve informar seu nome e senha\n",
        "\n",
        "while True:\n",
        "  nome = input('Qual o seu nome?')\n",
        "  if (nome != 'Lenhadorzinho'):\n",
        "    continue\n",
        "  senha = input('Qual a sua senha?')\n",
        "  if (senha == 'Uninter'):\n",
        "    break\n",
        "print('Acesso Concedido.')     "
      ],
      "metadata": {
        "colab": {
          "base_uri": "https://localhost:8080/"
        },
        "id": "bX_sL2vMMUnv",
        "outputId": "fbe69e3b-2e8f-47a1-ebe4-520ca3bcc707"
      },
      "execution_count": null,
      "outputs": [
        {
          "output_type": "stream",
          "name": "stdout",
          "text": [
            " Qual o seu nome?Lenhadorzinho\n",
            "Qual a sua senha?Uninter\n",
            "Acesso Concedido.\n"
          ]
        }
      ]
    },
    {
      "cell_type": "markdown",
      "source": [
        " Valores \"Truhty\" e \"Falsey\""
      ],
      "metadata": {
        "id": "5_m1qNOHOUQ8"
      }
    },
    {
      "cell_type": "code",
      "source": [
        "nome = ''\n",
        "while not nome:\n",
        "  nome = input('Digite seu nome:')\n",
        "valor = int(input('Digite um numero qualquer:'))\n",
        "if valor:\n",
        "  print('Voce digitou um valor diferente de zero.')\n",
        "else:\n",
        "  print('Voce digitou zero.')"
      ],
      "metadata": {
        "id": "4bEBxVrqOa9h"
      },
      "execution_count": null,
      "outputs": []
    },
    {
      "cell_type": "markdown",
      "source": [
        " ESTRUTURA DE REPETIÇÃO FOR (PARA)"
      ],
      "metadata": {
        "id": "RzMLs-nZQmRR"
      }
    },
    {
      "cell_type": "code",
      "source": [
        "for i in range(6):\n",
        "  print(i)"
      ],
      "metadata": {
        "colab": {
          "base_uri": "https://localhost:8080/"
        },
        "id": "6C9PMCsyQsKP",
        "outputId": "1e5b1ec9-3604-4512-8685-cde51147f3db"
      },
      "execution_count": null,
      "outputs": [
        {
          "output_type": "stream",
          "name": "stdout",
          "text": [
            "0\n",
            "1\n",
            "2\n",
            "3\n",
            "4\n",
            "5\n"
          ]
        }
      ]
    },
    {
      "cell_type": "code",
      "source": [
        "for i in range(1,6,1):\n",
        "  print(i)"
      ],
      "metadata": {
        "colab": {
          "base_uri": "https://localhost:8080/"
        },
        "id": "7emGZj4xSOhk",
        "outputId": "16e67c96-f6c3-46b5-8579-56eeffc391a3"
      },
      "execution_count": null,
      "outputs": [
        {
          "output_type": "stream",
          "name": "stdout",
          "text": [
            "1\n",
            "2\n",
            "3\n",
            "4\n",
            "5\n"
          ]
        }
      ]
    },
    {
      "cell_type": "code",
      "source": [
        "for i in range(10,0,-2):\n",
        "  print(i)"
      ],
      "metadata": {
        "colab": {
          "base_uri": "https://localhost:8080/"
        },
        "id": "czD_WbTjTFoS",
        "outputId": "107690a1-af4d-4caf-a155-e0e0f9707afa"
      },
      "execution_count": null,
      "outputs": [
        {
          "output_type": "stream",
          "name": "stdout",
          "text": [
            "10\n",
            "8\n",
            "6\n",
            "4\n",
            "2\n"
          ]
        }
      ]
    },
    {
      "cell_type": "code",
      "source": [
        "#Ex. Escreva um algoritmo que calcule a media dos numeros pares de 1 ate 100 (1 e 100 inclusos).\n",
        "#Implemente o laço usando for\n",
        "\n",
        "soma = 0\n",
        "qtd = 0\n",
        "for i in range(1,101):\n",
        "  if (i % 2 == 0):\n",
        "    soma += i\n",
        "    qtd += 1\n",
        "media = soma / qtd\n",
        "print('A media dos pares de 1 ate 100 é: {}'.format(media))"
      ],
      "metadata": {
        "colab": {
          "base_uri": "https://localhost:8080/"
        },
        "id": "ssQoL1SJUcYe",
        "outputId": "2077247c-1e65-4983-9635-f128124e04e2"
      },
      "execution_count": null,
      "outputs": [
        {
          "output_type": "stream",
          "name": "stdout",
          "text": [
            "A media dos pares de 1 ate 100 é: 51.0\n"
          ]
        }
      ]
    },
    {
      "cell_type": "markdown",
      "source": [
        " ESTRUTURAS DE REPETIÇAO ANINHADAS"
      ],
      "metadata": {
        "id": "ktapbyEyU66c"
      }
    },
    {
      "cell_type": "code",
      "source": [
        "#EX. Escreva um algoritmo em Python que calcule a tabuada de todos os numeros\n",
        "# de 1 ate 10, e, para cada numero, vamos calcular a tabuada multiplicando-o pelo intervalo de 1 ate 10\n",
        "# diferentes implementacoes 2-while, 2-for, while + for\n",
        "\n",
        "#2 while\n",
        "tabuada = 1\n",
        "while tabuada <= 10:\n",
        "  print('TABUADA DO {}:'.format(tabuada))\n",
        "  i = 1\n",
        "  while i <= 10:\n",
        "    print('{} x {} + {}'.format(tabuada, i, tabuada * i))\n",
        "    i += 1\n",
        "  tabuada += 1  "
      ],
      "metadata": {
        "id": "ZreZiyG7U_60"
      },
      "execution_count": null,
      "outputs": []
    },
    {
      "cell_type": "code",
      "source": [
        "#2 for\n",
        "for tabuada in range(1, 11, 1):\n",
        "  print('TABUADA DO {}:'.format(tabuada))\n",
        "  for i in range(1, 11, 1):\n",
        "    print('{} x {} = {}'.format(tabuada, i , tabuada * i))"
      ],
      "metadata": {
        "id": "PaZ0S6TiX_E0"
      },
      "execution_count": null,
      "outputs": []
    },
    {
      "cell_type": "code",
      "source": [
        "#while + for\n",
        "tabuada = 1\n",
        "while tabuada <= 10:\n",
        "  print('TABUADA DO {}:'.format(tabuada))\n",
        "  for i in range(1, 11, 1):\n",
        "    print('{} x {} = {}'.format(tabuada, i, tabuada * i))"
      ],
      "metadata": {
        "id": "guGaLjopYzaE"
      },
      "execution_count": null,
      "outputs": []
    },
    {
      "cell_type": "markdown",
      "source": [
        "AULA PRATICA"
      ],
      "metadata": {
        "id": "a22BgkZ6LZle"
      }
    },
    {
      "cell_type": "code",
      "source": [
        " AULA PRATICA 4\n",
        "\n",
        " while e for\n",
        "\n",
        " Realize a sequencia de print com for e while\n",
        " a) Inteiros de 3 ate 12, com 12 incluso\n",
        " b) Inteiros de 0 ate 9, excluins 9, com passo de 2\n",
        "\n",
        "for i in range (3, 13, 1):\n",
        "  print(i)\n",
        "\n",
        "i = 3\n",
        "while(i < 13):\n",
        "  print(i)\n",
        "  i += 1\n",
        "\n",
        "for i in range (0, 9, 2):\n",
        "  print(i)\n",
        "\n",
        "i = 0\n",
        "while(i < 9):\n",
        "  print(i)\n",
        "  i += 2\n",
        "\n",
        " EXERCICIO 1\n",
        "\n",
        " Escreva um algoritmo que leia dois valores\n",
        " numéricos e que pergunte ao usuário qual\n",
        " operação ele deseja realizar: adição (+),\n",
        " subtração (-), multiplicação (*), divisão (/)\n",
        " e sair. Exiba na tela o resultado da operação\n",
        " desejada\n",
        " Repita até que a opção saída seja escolhida\n",
        " (Exercício construído na aula prática 3)\n",
        "\n",
        "print('CALCULADORA')\n",
        "print(' + Adicao')\n",
        "print(' - Subtracao')\n",
        "print(' * Multiplicacao')\n",
        "print(' / Divisao')\n",
        "print('Pressione outra tecla para sair')\n",
        "\n",
        "op = input('Qual operacao deseja fazer?')\n",
        "if op == '+' or op == '-' or op == '*' or op == '/':\n",
        "  x = int(input('Digite o primeiro valor:'))\n",
        "  y = int(input('Digite o segundo valor:'))\n",
        "\n",
        "while (op != 's'):\n",
        "  if (op == '+'):\n",
        "      res = x + y\n",
        "      print('Resultado: {} + {} = {}'.format(x, y, res))\n",
        "  elif (op == '-'):\n",
        "      res = x - y\n",
        "    print('Resultado: {} - {} = {}'.format(x, y, res))\n",
        "  elif (op == '*'):\n",
        "      res = x * y\n",
        "      print('Resultado: {} * {} = {}'.format(x, y, res))\n",
        "  elif (op == '/'):\n",
        "      res = x / y\n",
        "      print('Resultado: {} / {} = {}'.format(x, y, res))\n",
        "  else:\n",
        "      print('Operacao Invalida.')\n",
        "\n",
        "  op = input('Qual operacao deseja fazer?')\n",
        "  if op == '+' or op == '-' or op == '*' or op == '/':\n",
        "    x = int(input('Digite o primeiro valor:'))\n",
        "    y = int(input('Digite o segundo valor:'))\n",
        "\n",
        "print('Encerrando o programa...')\n",
        "\n",
        " Segunda maneira de resolver o exercicio\n",
        "\n",
        "print('CALCULADORA')\n",
        "print(' + Adicao')\n",
        "print(' - Subtracao')\n",
        "print(' * Multiplicacao')\n",
        "print(' / Divisao')\n",
        "print('Pressione outra tecla para sair')\n",
        "\n",
        "\n",
        "\n",
        "while True:\n",
        "  op = input('Qual operacao deseja fazer?')\n",
        "  if op == '+' or op == '-' or op == '*' or op == '/':\n",
        "    x = int(input('Digite o primeiro valor:'))\n",
        "    y = int(input('Digite o segundo valor:'))\n",
        "\n",
        "  if (op == '+'):\n",
        "      res = x + y\n",
        "      print('Resultado: {} + {} = {}'.format(x, y, res))\n",
        "      continue\n",
        "  elif (op == '-'):\n",
        "      res = x - y\n",
        "      print('Resultado: {} - {} = {}'.format(x, y, res))\n",
        "      continue\n",
        "  elif (op == '*'):\n",
        "      res = x * y\n",
        "      print('Resultado: {} * {} = {}'.format(x, y, res))\n",
        "      continue\n",
        "  elif (op == '/'):\n",
        "      res = x / y\n",
        "      print('Resultado: {} / {} = {}'.format(x, y, res))\n",
        "      continue\n",
        "  elif (op == 's'):\n",
        "      break\n",
        "  else:\n",
        "      print('Operacao Invalida.')\n",
        "\n",
        "  op = input('Qual operacao deseja fazer?')\n",
        "  if op == '+' or op == '-' or op == '*' or op == '/':\n",
        "    x = int(input('Digite o primeiro valor:'))\n",
        "    y = int(input('Digite o segundo valor:'))\n",
        "\n",
        "print('Encerrando o programa...')\n",
        "\n",
        "\n",
        " EXERCICIO 2\n",
        "\n",
        " Escreva um algoritmo que leia um valor\n",
        " e que imprima a quantidade de cédulas\n",
        " necessárias para pagar esse mesmo valor.\n",
        " Para simplificar, vamos trabalhar apenas\n",
        " com valores inteiros e com cédulas de R$\n",
        " 100, R$ 50, R$ 20, R$ 10, R$ 5 e R$ 1\n",
        "\n",
        "valor = int(input('Digite o valor em R$'))\n",
        "\n",
        "while True:\n",
        "  if valor >= 100:\n",
        "    cedulas100 = valor // 100\n",
        "    valor -= cedulas100 * 100\n",
        "    print('Cedulas de 100: {}'.format(cedulas100))\n",
        "    if not valor:\n",
        "      break\n",
        "  if valor >= 50:\n",
        "    cedulas50 = valor // 50\n",
        "    valor -= cedulas50 * 50\n",
        "    print('Cedulas de 50: {}'.format(cedulas50))\n",
        "    if not valor:\n",
        "      break\n",
        "  if valor >= 20:\n",
        "    cedulas20 = valor // 20\n",
        "    valor -= cedulas20 * 20\n",
        "    print('Cedulas de 20: {}'.format(cedulas20))\n",
        "    if not valor:\n",
        "      break\n",
        "  if valor >= 10:\n",
        "    cedulas10 = valor // 10\n",
        "    valor -= cedulas10 * 10\n",
        "    print('Cedulas de 10: {}'.format(cedulas10))\n",
        "    if not valor:\n",
        "      break\n",
        "  if valor >= 5:\n",
        "    cedulas5 = valor // 5\n",
        "    valor -= cedulas5 * 5\n",
        "    print('Cedulas de 5: {}'.format(cedulas5))\n",
        "    if not valor:\n",
        "      break\n",
        "  if valor:\n",
        "    cedulas1 = valor\n",
        "    print('Cedulas de 1: {}'.format(cedulas1))\n",
        "    break\n",
        "\n",
        " EXERCICIO 3\n",
        "\n",
        " Um cinema cobra preços diferentes para\n",
        " os ingressos de acordo com a idade de uma\n",
        " pessoa. Se a pessoa tiver menos de 3 anos\n",
        " de idade, o ingresso será gratuito, se tiver\n",
        " entre 3 e 12 anos, o ingresso custará R$ 15,\n",
        " se tiver mais de 12 anos, custará R$ 30\n",
        "\n",
        " Escreva um laço em que você pergunte a\n",
        " idade aos usuários e, então, informe-lhes o\n",
        " preço do ingresso do cinema\n",
        "\n",
        " Encerre o laço usando um break quando o\n",
        " usuário digitar sair\n",
        "\n",
        " Após encerrar o laço, apresente na tela o\n",
        " total de pessoas que compraram ingressos,\n",
        " o total de dinheiro arrecadado e a média de\n",
        " idade das pessoas\n",
        "\n",
        "total = 0\n",
        "dinheiro = 0\n",
        "\n",
        "while True:\n",
        "  idade = input('Qual sua idade?')\n",
        "  if idade == 'sair':\n",
        "    break\n",
        "  idade = int(idade)\n",
        "  total += 1\n",
        "  if idade < 3:\n",
        "    ingresso = 0\n",
        "  else:\n",
        "    if idade > 12:\n",
        "      ingresso = 30\n",
        "    else:\n",
        "      ingresso = 15\n",
        "  dinheiro += ingresso\n",
        "\n",
        "media = dinheiro / total\n",
        "print('Total de pessoas: {}'.format(total))\n",
        "print('Total arrecadado: {}'.format(dinheiro))\n",
        "print('Media arrecadada: {}'.format(media))\n"
      ],
      "metadata": {
        "id": "z7sE1CUAMCx9"
      },
      "execution_count": null,
      "outputs": []
    },
    {
      "cell_type": "markdown",
      "source": [
        "# AULA 5 FUNÇÕES"
      ],
      "metadata": {
        "id": "m4Lfx5rri5CF"
      }
    },
    {
      "cell_type": "code",
      "source": [
        "# Nossa primeira função\n",
        "\n",
        "print('|','_'* 10,'|')\n",
        "print('|','_'* 10,'|')\n",
        "print('         MENU')\n",
        "print('|','_'* 10,'|')\n",
        "print('|','_'* 10,'|')"
      ],
      "metadata": {
        "colab": {
          "base_uri": "https://localhost:8080/"
        },
        "id": "VlRivNmmi8l2",
        "outputId": "1ef8634e-a214-4fc2-ecc9-da2246abecc0"
      },
      "execution_count": null,
      "outputs": [
        {
          "output_type": "stream",
          "name": "stdout",
          "text": [
            "| __________ |\n",
            "| __________ |\n",
            "         MENU\n",
            "| __________ |\n",
            "| __________ |\n"
          ]
        }
      ]
    },
    {
      "cell_type": "code",
      "source": [
        "# TRANSFORMANDO EM UMA FUNCAO\n",
        "\n",
        "def realce():\n",
        "  #corpo da funcao\n",
        "  print('|','_'* 10,'|')\n",
        "  print('|','_'* 10,'|')"
      ],
      "metadata": {
        "id": "PkF4LnBOjve6"
      },
      "execution_count": null,
      "outputs": []
    },
    {
      "cell_type": "code",
      "source": [
        "# PROGRAMA PRINCIPAL\n",
        "realce()\n",
        "print('     MENU')\n",
        "realce()"
      ],
      "metadata": {
        "colab": {
          "base_uri": "https://localhost:8080/"
        },
        "id": "HYlwZr1iknH8",
        "outputId": "27fa6355-7c8d-4538-b801-977a8c44780e"
      },
      "execution_count": null,
      "outputs": [
        {
          "output_type": "stream",
          "name": "stdout",
          "text": [
            "| __________ |\n",
            "| __________ |\n",
            "     MENU\n",
            "| __________ |\n",
            "| __________ |\n"
          ]
        }
      ]
    },
    {
      "cell_type": "code",
      "source": [
        "# PARAMETROS EM FUNÇÕES\n",
        "def realce(s1):\n",
        "  print('|','_'* 10,'|')\n",
        "  print('|','_'* 10,'|')\n",
        "  print(s1)\n",
        "  print('|','_'* 10,'|')\n",
        "  print('|','_'* 10,'|')"
      ],
      "metadata": {
        "id": "5RhF_sVNk_LX"
      },
      "execution_count": null,
      "outputs": []
    },
    {
      "cell_type": "code",
      "source": [
        "# PROGRAMA PRINCIPAL\n",
        "realce('      Vini')"
      ],
      "metadata": {
        "colab": {
          "base_uri": "https://localhost:8080/"
        },
        "id": "AAtUefErmdXE",
        "outputId": "2c5de974-87b1-4f40-882f-2050c9c746cb"
      },
      "execution_count": null,
      "outputs": [
        {
          "output_type": "stream",
          "name": "stdout",
          "text": [
            "| __________ |\n",
            "| __________ |\n",
            "      Vini\n",
            "| __________ |\n",
            "| __________ |\n"
          ]
        }
      ]
    },
    {
      "cell_type": "code",
      "source": [
        "def sub2(x, y):\n",
        "  res = x - y\n",
        "  print(res)\n",
        "\n",
        "sub2(5, 7)"
      ],
      "metadata": {
        "colab": {
          "base_uri": "https://localhost:8080/"
        },
        "id": "lvfb2m_Immed",
        "outputId": "13a0b8b7-5cb0-4118-9a46-3cb34b50e2fc"
      },
      "execution_count": null,
      "outputs": [
        {
          "output_type": "stream",
          "name": "stdout",
          "text": [
            "-2\n"
          ]
        }
      ]
    },
    {
      "cell_type": "code",
      "source": [
        "sub2(7, 5)"
      ],
      "metadata": {
        "colab": {
          "base_uri": "https://localhost:8080/"
        },
        "id": "hb-gZ8kYn3rv",
        "outputId": "3ebe18de-2266-4623-ad6f-22d5897bb427"
      },
      "execution_count": null,
      "outputs": [
        {
          "output_type": "stream",
          "name": "stdout",
          "text": [
            "2\n"
          ]
        }
      ]
    },
    {
      "cell_type": "code",
      "source": [
        "sub2(y = 7, x = 5)"
      ],
      "metadata": {
        "colab": {
          "base_uri": "https://localhost:8080/"
        },
        "id": "GnAOGTu6n6jH",
        "outputId": "05ca6c7b-a947-4d5e-b1d5-7064a10c0570"
      },
      "execution_count": null,
      "outputs": [
        {
          "output_type": "stream",
          "name": "stdout",
          "text": [
            "-2\n"
          ]
        }
      ]
    },
    {
      "cell_type": "code",
      "source": [
        "# PARAMETROS OPCIONAIS\n",
        "def soma3(x, y, z):\n",
        "  res = x + y + z\n",
        "  print(res)\n",
        "\n"
      ],
      "metadata": {
        "id": "Jc4WHAQSoFDw"
      },
      "execution_count": null,
      "outputs": []
    },
    {
      "cell_type": "code",
      "source": [
        "def soma3(x = 0, y = 0, z = 0):\n",
        "  res = x + y + z\n",
        "  print(res)"
      ],
      "metadata": {
        "id": "4IUFRYe3o8LE"
      },
      "execution_count": null,
      "outputs": []
    },
    {
      "cell_type": "code",
      "source": [
        "soma3(1, 2, 3)\n",
        "soma3(1, 2) #z FOI OMTIIDO\n",
        "soma3(1) # y, z FORAM OMITIDO\n",
        "soma3() #x, y, z FORAM OMITIDO"
      ],
      "metadata": {
        "colab": {
          "base_uri": "https://localhost:8080/"
        },
        "id": "MJpmIDWSpRfm",
        "outputId": "970126f3-8d49-47dd-af1e-67c0d37c546b"
      },
      "execution_count": null,
      "outputs": [
        {
          "output_type": "stream",
          "name": "stdout",
          "text": [
            "6\n",
            "3\n",
            "1\n",
            "0\n"
          ]
        }
      ]
    },
    {
      "cell_type": "markdown",
      "source": [
        "![image.png](data:image/png;base64,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)"
      ],
      "metadata": {
        "id": "3TsXP0-sqZSt"
      }
    },
    {
      "cell_type": "code",
      "source": [
        "# EXERCICIO 1\n",
        "def borda(s1):\n",
        "  tam = len(s1)\n",
        "  # so imprime caso exista algum caractere\n",
        "  if tam:\n",
        "    print('+','_' * tam,'+')\n",
        "    print('|',s1,'|')\n",
        "    print('+','_' * tam,'+')\n",
        "\n",
        "# PROGRAMA PRINCIPAL\n",
        "borda('Ola, Mundo!')\n",
        "borda('Logica de Programaçao e Algortimos')"
      ],
      "metadata": {
        "colab": {
          "base_uri": "https://localhost:8080/"
        },
        "id": "f_8NDk97qgDL",
        "outputId": "e8f2eb2a-d41a-46ab-b886-c88f84ef1d19"
      },
      "execution_count": null,
      "outputs": [
        {
          "output_type": "stream",
          "name": "stdout",
          "text": [
            "+ ___________ +\n",
            "| Ola, Mundo! |\n",
            "+ ___________ +\n",
            "+ __________________________________ +\n",
            "| Logica de Programaçao e Algortimos |\n",
            "+ __________________________________ +\n"
          ]
        }
      ]
    },
    {
      "cell_type": "code",
      "source": [
        "# ESCOPO DE VARIAVEIS\n",
        "\n",
        "def comida():\n",
        "  print(ovos)\n",
        "\n",
        "#PROGRAMA PRINCIPAL\n",
        "ovos = 12\n",
        "comida()"
      ],
      "metadata": {
        "colab": {
          "base_uri": "https://localhost:8080/"
        },
        "id": "AJgR53CSyn6e",
        "outputId": "f95bf56a-0d28-4628-9b2e-05b65ee21113"
      },
      "execution_count": null,
      "outputs": [
        {
          "output_type": "stream",
          "name": "stdout",
          "text": [
            "12\n"
          ]
        }
      ]
    },
    {
      "cell_type": "code",
      "source": [
        "def comida():\n",
        "  ovos = 12\n",
        "  bacon ()\n",
        "  print(ovos)\n",
        "\n",
        "def bacon():\n",
        "  ovos = 6\n",
        "\n",
        "# PROGRAMA PRINCIPAL\n",
        "comida()"
      ],
      "metadata": {
        "colab": {
          "base_uri": "https://localhost:8080/"
        },
        "id": "B5cyVEP6y1h9",
        "outputId": "aec7065b-75e5-4baf-916c-98bf59c5752b"
      },
      "execution_count": null,
      "outputs": [
        {
          "output_type": "stream",
          "name": "stdout",
          "text": [
            "12\n"
          ]
        }
      ]
    },
    {
      "cell_type": "code",
      "source": [
        "def comida():\n",
        "  ovos = 'variavel local de comida'\n",
        "  print(ovos)\n",
        "\n",
        "def bacon():\n",
        "  ovos = 'variavel local de bacon'\n",
        "  print(ovos)\n",
        "  comida()\n",
        "  print(ovos)\n",
        "\n",
        "# PROGRAMA PRINCIPAL\n",
        "ovos = 'variavel global'\n",
        "bacon()\n",
        "print(ovos)\n"
      ],
      "metadata": {
        "colab": {
          "base_uri": "https://localhost:8080/"
        },
        "id": "hB7aYqfzzRHy",
        "outputId": "9eac8f07-2335-4434-f499-89c935a2b65f"
      },
      "execution_count": null,
      "outputs": [
        {
          "output_type": "stream",
          "name": "stdout",
          "text": [
            "variavel local de bacon\n",
            "variavel local de comida\n",
            "variavel local de bacon\n",
            "variavel global\n"
          ]
        }
      ]
    },
    {
      "cell_type": "code",
      "source": [
        "# A INSTRUCAO GLOBAL\n",
        "\n",
        "def comida():\n",
        "  global ovos\n",
        "  ovos = 'comida'\n",
        "\n",
        "# PROGRAMA PRINCIPAL\n",
        "ovos = 'global'\n",
        "comida()\n",
        "print(ovos)"
      ],
      "metadata": {
        "colab": {
          "base_uri": "https://localhost:8080/"
        },
        "id": "e8L81G050R-d",
        "outputId": "9f172d00-c13f-4d00-ddd0-1c63f5c22e38"
      },
      "execution_count": null,
      "outputs": [
        {
          "output_type": "stream",
          "name": "stdout",
          "text": [
            "comida\n"
          ]
        }
      ]
    },
    {
      "cell_type": "code",
      "source": [
        "# RETORNO DE VALORES EM FUNCOES\n",
        "\n",
        "def soma3(x = 0, y =0, z =0):\n",
        "  res = x + y + z\n",
        "  return res"
      ],
      "metadata": {
        "id": "kFYFB7M-0nGK"
      },
      "execution_count": null,
      "outputs": []
    },
    {
      "cell_type": "code",
      "source": [
        "# PROGRAMA PRINCIPAL\n",
        "retornado = soma3(1,2,3)\n",
        "print(retornado)\n",
        "\n",
        "# forma alternativa simplificada\n",
        "print(soma3(2,2))"
      ],
      "metadata": {
        "colab": {
          "base_uri": "https://localhost:8080/"
        },
        "id": "M0Fkt9Gu1SoV",
        "outputId": "00c79bd5-54f6-4ef4-f1d4-13e9b66b9795"
      },
      "execution_count": null,
      "outputs": [
        {
          "output_type": "stream",
          "name": "stdout",
          "text": [
            "6\n",
            "4\n"
          ]
        }
      ]
    },
    {
      "cell_type": "code",
      "source": [
        "# PROGRAMA PRINCIPAL\n",
        "retornado1 = soma3(1,2,3)\n",
        "retornado2 = soma3(1,2)\n",
        "retornado3 = soma3()\n",
        "print('Somatorios: {}, {} e {}.'.format(retornado1, retornado2, retornado3))"
      ],
      "metadata": {
        "colab": {
          "base_uri": "https://localhost:8080/"
        },
        "id": "P9_deAHx1ldT",
        "outputId": "1f589e48-ce6d-4ac4-9e75-c4e798096441"
      },
      "execution_count": null,
      "outputs": [
        {
          "output_type": "stream",
          "name": "stdout",
          "text": [
            "Somatorios: 6, 3 e 0.\n"
          ]
        }
      ]
    },
    {
      "cell_type": "markdown",
      "source": [
        "![image.png](data:image/png;base64,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)"
      ],
      "metadata": {
        "id": "nn-lEAT_2hrz"
      }
    },
    {
      "cell_type": "code",
      "source": [
        "# EXERCICIO\n",
        "\n",
        "def valida_string(pergunta, min, max):\n",
        "  s1 = input(pergunta)\n",
        "  tam = len(s1)\n",
        "  while ((tam < min) or (tam > max)):\n",
        "    s1 = input(pergunta)\n",
        "    tam = len(s1)\n",
        "  return s1\n",
        "\n",
        "# PROGRAMA PRINCIPAL\n",
        "x = valida_string('Digite uma string:', 10, 30)\n",
        "print('Voce digitiou a string: {}. \\n Dado valido. Encerrando o programa...'.format(x))"
      ],
      "metadata": {
        "colab": {
          "base_uri": "https://localhost:8080/"
        },
        "id": "AX9iFdIa2nsF",
        "outputId": "42e5a18b-b3de-45a2-cb3f-677033605b78"
      },
      "execution_count": null,
      "outputs": [
        {
          "output_type": "stream",
          "name": "stdout",
          "text": [
            "Digite uma string:Teste\n",
            "Digite uma string:Algoritmos\n",
            "Voce digitiou a string: Algoritmos. \n",
            " Dado valido. Encerrando o programa...\n"
          ]
        }
      ]
    },
    {
      "cell_type": "code",
      "source": [
        "# ERROS (EXCECOES) EM PYTHON\n",
        "\n",
        "100 * (2/0)"
      ],
      "metadata": {
        "colab": {
          "base_uri": "https://localhost:8080/",
          "height": 200
        },
        "id": "qsjJqXtx3-Jt",
        "outputId": "980c2c7e-7070-40a3-f52b-b717f7c5fc83"
      },
      "execution_count": null,
      "outputs": [
        {
          "output_type": "error",
          "ename": "ZeroDivisionError",
          "evalue": "ignored",
          "traceback": [
            "\u001b[0;31m---------------------------------------------------------------------------\u001b[0m",
            "\u001b[0;31mZeroDivisionError\u001b[0m                         Traceback (most recent call last)",
            "\u001b[0;32m<ipython-input-36-6156c2915901>\u001b[0m in \u001b[0;36m<module>\u001b[0;34m\u001b[0m\n\u001b[1;32m      1\u001b[0m \u001b[0;31m# ERROS (EXCECOES) EM PYTHON\u001b[0m\u001b[0;34m\u001b[0m\u001b[0;34m\u001b[0m\u001b[0;34m\u001b[0m\u001b[0m\n\u001b[1;32m      2\u001b[0m \u001b[0;34m\u001b[0m\u001b[0m\n\u001b[0;32m----> 3\u001b[0;31m \u001b[0;36m100\u001b[0m \u001b[0;34m*\u001b[0m \u001b[0;34m(\u001b[0m\u001b[0;36m2\u001b[0m\u001b[0;34m/\u001b[0m\u001b[0;36m0\u001b[0m\u001b[0;34m)\u001b[0m\u001b[0;34m\u001b[0m\u001b[0;34m\u001b[0m\u001b[0m\n\u001b[0m",
            "\u001b[0;31mZeroDivisionError\u001b[0m: division by zero"
          ]
        }
      ]
    },
    {
      "cell_type": "code",
      "source": [
        "x = int(input('Por favor digite um numero'))"
      ],
      "metadata": {
        "colab": {
          "base_uri": "https://localhost:8080/",
          "height": 183
        },
        "id": "g4i7py584wan",
        "outputId": "0bbd7bad-d412-4c16-c0da-e50c5c7ad7fc"
      },
      "execution_count": null,
      "outputs": [
        {
          "name": "stdout",
          "output_type": "stream",
          "text": [
            "Por favor digite um numeroc\n"
          ]
        },
        {
          "output_type": "error",
          "ename": "ValueError",
          "evalue": "ignored",
          "traceback": [
            "\u001b[0;31m---------------------------------------------------------------------------\u001b[0m",
            "\u001b[0;31mValueError\u001b[0m                                Traceback (most recent call last)",
            "\u001b[0;32m<ipython-input-37-9b0bf0253fb7>\u001b[0m in \u001b[0;36m<module>\u001b[0;34m\u001b[0m\n\u001b[0;32m----> 1\u001b[0;31m \u001b[0mx\u001b[0m \u001b[0;34m=\u001b[0m \u001b[0mint\u001b[0m\u001b[0;34m(\u001b[0m\u001b[0minput\u001b[0m\u001b[0;34m(\u001b[0m\u001b[0;34m'Por favor digite um numero'\u001b[0m\u001b[0;34m)\u001b[0m\u001b[0;34m)\u001b[0m\u001b[0;34m\u001b[0m\u001b[0;34m\u001b[0m\u001b[0m\n\u001b[0m",
            "\u001b[0;31mValueError\u001b[0m: invalid literal for int() with base 10: 'c'"
          ]
        }
      ]
    },
    {
      "cell_type": "code",
      "source": [
        "# RESOLVENDO A EXECECAO\n",
        "\n",
        "while True:\n",
        "  try:\n",
        "    x = int(input('Por favor digite um numero: '))\n",
        "    break\n",
        "  except ValueError:\n",
        "    print('Oops! Numero invalido. Tente novamente...')"
      ],
      "metadata": {
        "colab": {
          "base_uri": "https://localhost:8080/"
        },
        "id": "JFsRc9-347-T",
        "outputId": "6d9d8368-c1ad-48bf-f484-9a376d70e4dc"
      },
      "execution_count": null,
      "outputs": [
        {
          "name": "stdout",
          "output_type": "stream",
          "text": [
            "Por favor digite um numero: c\n",
            "Oops! Numero invalido. Tente novamente...\n",
            "Por favor digite um numero: d\n",
            "Oops! Numero invalido. Tente novamente...\n",
            "Por favor digite um numero: 10\n"
          ]
        }
      ]
    },
    {
      "cell_type": "code",
      "source": [
        "# OUTRO EXEMPLO\n",
        "def div():\n",
        "  try:\n",
        "    num1 = int(input('Digite um numero: '))\n",
        "    num2 = int(input('Digite um numero: '))\n",
        "    res = num1 / num2\n",
        "  except ZeroDivisionError:\n",
        "    print('Ooops! Erro de divisao por zero...')\n",
        "  except:\n",
        "    print('Algo de errado aconteceu...')\n",
        "  else:\n",
        "      return res\n",
        "  finally:\n",
        "    print('Executara sempre!')\n",
        "\n",
        "  # Programa principal\n",
        "  print(div())"
      ],
      "metadata": {
        "id": "fjGL_5Wz5ldv"
      },
      "execution_count": null,
      "outputs": []
    },
    {
      "cell_type": "code",
      "source": [
        "# FUNCAO COMO PARAMETRO DE FUNCAO\n",
        "\n",
        "def imprime_com_condicao(num, fcond):\n",
        "  if fcond(num):\n",
        "    print(num)\n",
        "\n",
        "def par(x):\n",
        "  return x % 2 == 0\n",
        "def impar(x):\n",
        "  return not par(x)\n",
        "\n",
        "# Programa principal\n",
        "imprime_com_condicao(5, impar)"
      ],
      "metadata": {
        "colab": {
          "base_uri": "https://localhost:8080/"
        },
        "id": "pDFj0QUL7Qxo",
        "outputId": "f43e8a81-5553-4248-98c6-aff4027cebe0"
      },
      "execution_count": null,
      "outputs": [
        {
          "output_type": "stream",
          "name": "stdout",
          "text": [
            "5\n"
          ]
        }
      ]
    },
    {
      "cell_type": "code",
      "source": [
        "#  FUNCAO LAMBDA\n",
        "\n",
        "res = lambda x: x * x\n",
        "print(res(3))"
      ],
      "metadata": {
        "colab": {
          "base_uri": "https://localhost:8080/"
        },
        "id": "zDsxJO0M8D7q",
        "outputId": "4c521c33-50cc-478e-c1cd-41fe1fcd966c"
      },
      "execution_count": null,
      "outputs": [
        {
          "output_type": "stream",
          "name": "stdout",
          "text": [
            "9\n"
          ]
        }
      ]
    },
    {
      "cell_type": "code",
      "source": [
        "soma = lambda x, y: x + y\n",
        "print(soma(3, 5))"
      ],
      "metadata": {
        "colab": {
          "base_uri": "https://localhost:8080/"
        },
        "id": "xH2gr2PG8UMa",
        "outputId": "eed3d600-6949-4bd7-91f9-ad8cc56db7fc"
      },
      "execution_count": null,
      "outputs": [
        {
          "output_type": "stream",
          "name": "stdout",
          "text": [
            "8\n"
          ]
        }
      ]
    },
    {
      "cell_type": "code",
      "source": [
        "# AULA PRATICA\n",
        "\n",
        "# AULA PRATICA\n",
        "\n",
        "#DOCSTRINGS\n",
        "\n",
        "def soma(x=0, y=0, z=0):\n",
        "    \"\"\"\n",
        "    Funcao que soma ate 3 valores inteiros\n",
        "    :param x: valor inteiro opcional\n",
        "    :param y: valor inteiro opcional\n",
        "    :param z: valor inteiro opcional\n",
        "    :return: soma inteira\n",
        "    \"\"\"\n",
        "\n",
        "    return x+y+z\n",
        "\n",
        "print(soma(3,2))\n",
        "help(soma)\n",
        "\n",
        "\n",
        "# EXERCICIO 1\n",
        "# Escreva uma função que calcule o fatorial\n",
        "# de um número recebido como parâmetro e\n",
        "# retorne o seu resultado\n",
        "# Faça uma validação dos dados por meio de\n",
        "# uma outra função, permitindo que somente\n",
        "# valores positivos sejam aceitos\n",
        "# Crie o help da sua função (exercício da\n",
        "# apostila – aula 5)\n",
        "\n",
        "def valida_int(pergunta, min, max):\n",
        "    x = int(input(pergunta))\n",
        "    while ((x < min) or (x > max)):\n",
        "        x = int(input(pergunta))\n",
        "    return x\n",
        "\n",
        "def fatorial(num):\n",
        "    \"\"\"\n",
        "    Calcula a fatorial\n",
        "    :param num:\n",
        "    :return:\n",
        "    \"\"\"\n",
        "    fat = 1\n",
        "    if num == 0:\n",
        "        return fat\n",
        "    for i in range(1, num+1,1):\n",
        "        fat *= i # fat = fat* i\n",
        "    return fat\n",
        "\n",
        "x = valida_int(input('Digite um valor para calcular a fatorial: ', 0, 99999)\n",
        "print('{}! = {}'.format(x, fatorial(x)))\n",
        "\n",
        "\n",
        "# EXERCICIO 2\n",
        "# Suponha que você é um colecionar de jogos\n",
        "# de videogame. Escreva um algoritmo que\n",
        "# permita cadastrar esses jogos informando o\n",
        "# nome e a qual videogame ele pertence\n",
        "# Para isso, crie um menu de opções contendo:\n",
        "# cadastrar novo item, listar tudo que foi\n",
        "# cadastrado e sair\n",
        "# Para resolver esse exercício, crie pelo menos\n",
        "# uma função para cada item do menu\n",
        "# Além disso, armazene todos os dados em\n",
        "# um arquivo de texto que deve ser salvo em\n",
        "# disco e manter os dados cadastrados\n",
        "\n",
        "def valida_int(pergunta, min, max):\n",
        "    x = int(input(pergunta))\n",
        "    while ((x < min) or (x > max)):\n",
        "        x = int(input(pergunta))\n",
        "    return x\n",
        "\n",
        "def criaArquivo(nomeArquivo):\n",
        "    try:\n",
        "        a = open(nomeArquivo, 'wt+')\n",
        "        a.close()\n",
        "    except:\n",
        "        print('Erro na criação do arquivo')\n",
        "    else:\n",
        "        print('Arquivo foi criado com sucesso!\\n'.format(nomeArquivo))\n",
        "\n",
        "def existeArquivo(nomeArquivo):\n",
        "    try:\n",
        "        a = open(nomeArquivo, 'rt')\n",
        "        a.close()\n",
        "    except FileNotFoundError:\n",
        "        return False\n",
        "    else:\n",
        "        return True\n",
        "\n",
        "def listarArquivo(nomeArquivo):\n",
        "    try:\n",
        "        a = open(nomeArquivo, 'rt')\n",
        "    except:\n",
        "        print('Erro ao ler o arquivo')\n",
        "    else:\n",
        "        print(a.read()))\n",
        "        \n",
        "        \n",
        "def cadastrarJogo(nomeArquivo, nomeJogo, nomeVideogame):\n",
        "    try:\n",
        "        a = open(nomeArquivo, 'at')\n",
        "    except:\n",
        "        print('Erro ao abrir o arquivo')\n",
        "    else:\n",
        "        a.write('{};{}\\n'.format(nomeJogo,nomeVideogame))\n",
        "    finally:\n",
        "        a.close()\n",
        "\n",
        "# Programa Principal\n",
        "arquivo = 'games.txt'\n",
        "if existeArquivo(arquivo):\n",
        "    print('Arquivo localizado no computador')\n",
        "else:\n",
        "    print('Arquivo inexiste')\n",
        "    criaArquivo(arquivo)\n",
        "\n",
        "while True:\n",
        "    print('MENU')\n",
        "    print('1 - Cadastrar novo item')\n",
        "    print('2 - Listar cadastros')\n",
        "    print('3 - Sair')\n",
        "\n",
        "    op = valida_int('Escolha a opção desejada: ', 1, 3)\n",
        "    if op == 1:\n",
        "        print('Opcao de cadastrar novo item selecionado...\\n')\n",
        "        nomeJogo = input('Nome do jogo:')\n",
        "        nomeVideogame = input('Nome do videogame:')\n",
        "        cadstrarJogo(arquivo, nomeJogo, nomeVideogame)\n",
        "    elif op == 2:\n",
        "        print('Opcao de listar selecionada...\\n')\n",
        "        listarArquivo(arquivo)\n",
        "    elif op == 3:\n",
        "        print('Encerrando o programa...')\n",
        "        break"
      ],
      "metadata": {
        "id": "Jk67lAkoYKvS"
      },
      "execution_count": null,
      "outputs": []
    },
    {
      "cell_type": "markdown",
      "source": [
        "# AULA 6 TUPLAS, LISTAS, DICIONARIOS E STRINGS"
      ],
      "metadata": {
        "id": "VbkELLuOk9hq"
      }
    },
    {
      "cell_type": "code",
      "source": [
        "# CONSTRUINDO E MANIPULANDO TUPLAS\n",
        "\n",
        "mochila = ('Machado', 'Camisa', 'Bacon', 'Abacate')\n",
        "print(mochila)"
      ],
      "metadata": {
        "colab": {
          "base_uri": "https://localhost:8080/"
        },
        "id": "NLMZos-FlFPQ",
        "outputId": "ea7bd9ec-2ce9-4580-aed6-075a4ac867f9"
      },
      "execution_count": null,
      "outputs": [
        {
          "output_type": "stream",
          "name": "stdout",
          "text": [
            "('Machado', 'Camisa', 'Bacon', 'Abacate')\n"
          ]
        }
      ]
    },
    {
      "cell_type": "code",
      "source": [
        "print(mochila[0]) #print do elemento 1 - indice 0\n",
        "print(mochila[2]) #print do elemento 3 - indice 2\n",
        "print(mochila[0:2]) #print dos elementos 1 e 2 - indice 0 e 1\n",
        "print(mochila[2:]) #print dos elementos a partir do indice 2\n",
        "print(mochila[-1]) #print do ultimo"
      ],
      "metadata": {
        "colab": {
          "base_uri": "https://localhost:8080/"
        },
        "id": "qkVREBZqmsVZ",
        "outputId": "8f23c470-f1c3-4e88-cd32-bc6a40937a84"
      },
      "execution_count": null,
      "outputs": [
        {
          "output_type": "stream",
          "name": "stdout",
          "text": [
            "Machado\n",
            "Bacon\n",
            "('Machado', 'Camisa')\n",
            "('Bacon', 'Abacate')\n",
            "Abacate\n"
          ]
        }
      ]
    },
    {
      "cell_type": "code",
      "source": [
        "mochila[2] = 'Ovos'"
      ],
      "metadata": {
        "colab": {
          "base_uri": "https://localhost:8080/",
          "height": 165
        },
        "id": "OtMu4OMSngNq",
        "outputId": "679047fd-9f1a-4741-f556-2a4a6ff1b570"
      },
      "execution_count": null,
      "outputs": [
        {
          "output_type": "error",
          "ename": "TypeError",
          "evalue": "ignored",
          "traceback": [
            "\u001b[0;31m---------------------------------------------------------------------------\u001b[0m",
            "\u001b[0;31mTypeError\u001b[0m                                 Traceback (most recent call last)",
            "\u001b[0;32m<ipython-input-4-10e5e4bdcd85>\u001b[0m in \u001b[0;36m<module>\u001b[0;34m\u001b[0m\n\u001b[0;32m----> 1\u001b[0;31m \u001b[0mmochila\u001b[0m\u001b[0;34m[\u001b[0m\u001b[0;36m2\u001b[0m\u001b[0;34m]\u001b[0m \u001b[0;34m=\u001b[0m \u001b[0;34m'Ovos'\u001b[0m\u001b[0;34m\u001b[0m\u001b[0;34m\u001b[0m\u001b[0m\n\u001b[0m",
            "\u001b[0;31mTypeError\u001b[0m: 'tuple' object does not support item assignment"
          ]
        }
      ]
    },
    {
      "cell_type": "code",
      "source": [
        "for item in mochila:\n",
        "  print('Na minha mochila tem: {}'.format(item))"
      ],
      "metadata": {
        "colab": {
          "base_uri": "https://localhost:8080/"
        },
        "id": "UACGch-_nvgH",
        "outputId": "5f148e84-bfbe-4172-ed06-d254c2e5ac05"
      },
      "execution_count": null,
      "outputs": [
        {
          "output_type": "stream",
          "name": "stdout",
          "text": [
            "Na minha mochila tem: Machado\n",
            "Na minha mochila tem: Camisa\n",
            "Na minha mochila tem: Bacon\n",
            "Na minha mochila tem: Abacate\n"
          ]
        }
      ]
    },
    {
      "cell_type": "code",
      "source": [
        "tam = len(mochila)\n",
        "for i in range (0, tam, 1):\n",
        "  print('Na minha mochila tem: {}'.format(mochila[i]))\n"
      ],
      "metadata": {
        "colab": {
          "base_uri": "https://localhost:8080/"
        },
        "id": "oXlANXjfn6oI",
        "outputId": "1e67c973-112e-4850-d362-a8a5767c2a49"
      },
      "execution_count": null,
      "outputs": [
        {
          "output_type": "stream",
          "name": "stdout",
          "text": [
            "Na minha mochila tem: Machado\n",
            "Na minha mochila tem: Camisa\n",
            "Na minha mochila tem: Bacon\n",
            "Na minha mochila tem: Abacate\n"
          ]
        }
      ]
    },
    {
      "cell_type": "code",
      "source": [
        "mochila = ('Machado', 'Camisa', 'Bacon', 'Abacate')\n",
        "upgrade = ('Queijo', 'Canivete')\n",
        "mochila_grande = mochila + upgrade\n",
        "\n",
        "print(mochila)\n",
        "print(upgrade)\n",
        "print(mochila_grande)"
      ],
      "metadata": {
        "colab": {
          "base_uri": "https://localhost:8080/"
        },
        "id": "ABc3Q8R7oZB8",
        "outputId": "c4fc2288-525f-452c-e76f-0127c071e441"
      },
      "execution_count": null,
      "outputs": [
        {
          "output_type": "stream",
          "name": "stdout",
          "text": [
            "('Machado', 'Camisa', 'Bacon', 'Abacate')\n",
            "('Queijo', 'Canivete')\n",
            "('Machado', 'Camisa', 'Bacon', 'Abacate', 'Queijo', 'Canivete')\n"
          ]
        }
      ]
    },
    {
      "cell_type": "code",
      "source": [
        "mochila_grande_invertida = upgrade + mochila\n",
        "print(mochila_grande)\n",
        "print(mochila_grande_invertida)"
      ],
      "metadata": {
        "colab": {
          "base_uri": "https://localhost:8080/"
        },
        "id": "y3jVHLMypAIp",
        "outputId": "9bdfb02e-b021-491c-af10-ea5f219a61a8"
      },
      "execution_count": null,
      "outputs": [
        {
          "output_type": "stream",
          "name": "stdout",
          "text": [
            "('Machado', 'Camisa', 'Bacon', 'Abacate', 'Queijo', 'Canivete')\n",
            "('Queijo', 'Canivete', 'Machado', 'Camisa', 'Bacon', 'Abacate')\n"
          ]
        }
      ]
    },
    {
      "cell_type": "code",
      "source": [
        "#DESEMPACOTAMENTO DE PARAMETROS EM FUNCOES\n",
        "\n",
        "# Suponha que você quer realizar o somatório de diversos valores, porém, você não sabe quantos valores serão somados. Pode ser que sejam somente 2, ou então 10, ou mesmo 100 números. Como criar uma função capaz de receber um número tão variável de parâmetros? Vejamos no exemplo a seguir o recurso do desempacotamento.\n",
        "\n",
        "def soma(*num):\n",
        "  soma = 0\n",
        "  print('Tupla: {}'.format(num))\n",
        "  for i in num:\n",
        "    soma += i\n",
        "  return soma\n",
        "\n",
        "# programa principal\n",
        "print('Resultado: {}\\n'.format(soma(1,2)))\n",
        "print('Resultado: {}\\n'.format(soma(1,2,3,4,5,6,7,8,9)))\n",
        "\n"
      ],
      "metadata": {
        "colab": {
          "base_uri": "https://localhost:8080/"
        },
        "id": "64WmW9T5pQGL",
        "outputId": "0fdf7fb8-a9e6-43d2-ae73-8d0036b058f0"
      },
      "execution_count": null,
      "outputs": [
        {
          "output_type": "stream",
          "name": "stdout",
          "text": [
            "Tupla: (1, 2)\n",
            "Resultado: 3\n",
            "\n",
            "Tupla: (1, 2, 3, 4, 5, 6, 7, 8, 9)\n",
            "Resultado: 45\n",
            "\n"
          ]
        }
      ]
    },
    {
      "cell_type": "code",
      "source": [
        "#LISTAS\n",
        "\n",
        "mochila = ('Machado', 'Camisa', 'Bacon', 'Abacate')\n",
        "print('Tupla: ', mochila)\n",
        "mochila = ['Machado', 'Camisa', 'Bacon', 'Abacate']\n",
        "print('Lista: ', mochila)"
      ],
      "metadata": {
        "colab": {
          "base_uri": "https://localhost:8080/"
        },
        "id": "HEn-K1oVqQvZ",
        "outputId": "a9de94e4-3447-421a-db19-2be505f91278"
      },
      "execution_count": null,
      "outputs": [
        {
          "output_type": "stream",
          "name": "stdout",
          "text": [
            "Tupla:  ('Machado', 'Camisa', 'Bacon', 'Abacate')\n",
            "Lista:  ['Machado', 'Camisa', 'Bacon', 'Abacate']\n"
          ]
        }
      ]
    },
    {
      "cell_type": "code",
      "source": [
        "mochila[2] = 'Laranja'\n",
        "print('Lista ', mochila)"
      ],
      "metadata": {
        "colab": {
          "base_uri": "https://localhost:8080/"
        },
        "id": "UUXXfRzZrRge",
        "outputId": "8af3649c-342c-4c06-b642-ca81b7a98e34"
      },
      "execution_count": null,
      "outputs": [
        {
          "output_type": "stream",
          "name": "stdout",
          "text": [
            "Lista  ['Machado', 'Camisa', 'Laranja', 'Abacate']\n"
          ]
        }
      ]
    },
    {
      "cell_type": "code",
      "source": [
        "# MANIPULANDO LISTAS\n",
        "\n",
        "mochila.append('Ovos')\n",
        "print('Lista: ', mochila)\n"
      ],
      "metadata": {
        "colab": {
          "base_uri": "https://localhost:8080/"
        },
        "id": "7nRrxyfsrawj",
        "outputId": "0781bb4e-3d63-4be1-90e2-eca7c65dc1a6"
      },
      "execution_count": null,
      "outputs": [
        {
          "output_type": "stream",
          "name": "stdout",
          "text": [
            "Lista:  ['Machado', 'Camisa', 'Laranja', 'Abacate', 'Ovos']\n"
          ]
        }
      ]
    },
    {
      "cell_type": "code",
      "source": [
        "mochila.insert(1, 'Canivete')\n",
        "print('Lista: ', mochila)"
      ],
      "metadata": {
        "colab": {
          "base_uri": "https://localhost:8080/"
        },
        "id": "ADIjGO8wrsmD",
        "outputId": "c3daff00-ddd4-4cdb-8bef-b96128b62820"
      },
      "execution_count": null,
      "outputs": [
        {
          "output_type": "stream",
          "name": "stdout",
          "text": [
            "Lista:  ['Machado', 'Canivete', 'Camisa', 'Laranja', 'Abacate', 'Ovos']\n"
          ]
        }
      ]
    },
    {
      "cell_type": "code",
      "source": [
        "del mochila[1]\n",
        "print('Lista: ', mochila)\n",
        "mochila.remove('Ovos')\n",
        "print('Lista: ', mochila)"
      ],
      "metadata": {
        "colab": {
          "base_uri": "https://localhost:8080/"
        },
        "id": "TCEVRJ0gr3XK",
        "outputId": "c9f73ed9-0bc3-47f8-9cb3-a711fba450dc"
      },
      "execution_count": null,
      "outputs": [
        {
          "output_type": "stream",
          "name": "stdout",
          "text": [
            "Lista:  ['Machado', 'Camisa', 'Laranja', 'Abacate', 'Ovos']\n",
            "Lista:  ['Machado', 'Camisa', 'Laranja', 'Abacate']\n"
          ]
        }
      ]
    },
    {
      "cell_type": "code",
      "source": [
        "# COPIA DE LISTAS\n",
        "\n",
        "#mesma referencia\n",
        "x = [5, 7, 9, 11]\n",
        "y = x\n",
        "print(x)\n",
        "print(y)\n"
      ],
      "metadata": {
        "colab": {
          "base_uri": "https://localhost:8080/"
        },
        "id": "WUtJgEeMsbk7",
        "outputId": "7847ed6f-d62c-4724-895d-9d2577063102"
      },
      "execution_count": null,
      "outputs": [
        {
          "output_type": "stream",
          "name": "stdout",
          "text": [
            "[5, 7, 9, 11]\n",
            "[5, 7, 9, 11]\n"
          ]
        }
      ]
    },
    {
      "cell_type": "code",
      "source": [
        "y[0] = 2\n",
        "print(x)\n",
        "print(y)"
      ],
      "metadata": {
        "colab": {
          "base_uri": "https://localhost:8080/"
        },
        "id": "Gf5g2YpPsnVQ",
        "outputId": "f0e1a526-88da-46fe-b3bb-fba61be79f9e"
      },
      "execution_count": null,
      "outputs": [
        {
          "output_type": "stream",
          "name": "stdout",
          "text": [
            "[2, 7, 9, 11]\n",
            "[2, 7, 9, 11]\n"
          ]
        }
      ]
    },
    {
      "cell_type": "code",
      "source": [
        "#copia\n",
        "x = [5, 7, 9, 11]\n",
        "y = x[:]\n",
        "print(x)\n",
        "print(y)\n"
      ],
      "metadata": {
        "colab": {
          "base_uri": "https://localhost:8080/"
        },
        "id": "giL7CMiassRD",
        "outputId": "76e316da-fe41-45cd-a07e-9c8a8f07fba7"
      },
      "execution_count": null,
      "outputs": [
        {
          "output_type": "stream",
          "name": "stdout",
          "text": [
            "[5, 7, 9, 11]\n",
            "[5, 7, 9, 11]\n"
          ]
        }
      ]
    },
    {
      "cell_type": "code",
      "source": [
        "y[0] = 2\n",
        "print(x)\n",
        "print(y)"
      ],
      "metadata": {
        "colab": {
          "base_uri": "https://localhost:8080/"
        },
        "id": "p29quYDQtG5b",
        "outputId": "ff192d26-65de-4684-f8d6-fe2badba32ef"
      },
      "execution_count": null,
      "outputs": [
        {
          "output_type": "stream",
          "name": "stdout",
          "text": [
            "[5, 7, 9, 11]\n",
            "[2, 7, 9, 11]\n"
          ]
        }
      ]
    },
    {
      "cell_type": "code",
      "source": [
        "# STRINGS E LISTAS DENTRO DE LISTAS\n",
        "\n",
        "mochila = ['Machado', 'Camisa', 'Bacon', 'Abacate']\n",
        "print(mochila[0])"
      ],
      "metadata": {
        "colab": {
          "base_uri": "https://localhost:8080/"
        },
        "id": "c75YDvi7tMMw",
        "outputId": "61f5b52d-6232-4dd0-a73b-a475db13757a"
      },
      "execution_count": null,
      "outputs": [
        {
          "output_type": "stream",
          "name": "stdout",
          "text": [
            "Machado\n"
          ]
        }
      ]
    },
    {
      "cell_type": "code",
      "source": [
        "mochila = ['Machado', 'Camisa', 'Bacon', 'Abacate']\n",
        "print(mochila[0][0])\n",
        "print(mochila[2][1])\n"
      ],
      "metadata": {
        "colab": {
          "base_uri": "https://localhost:8080/"
        },
        "id": "aCHAx7bcuUOK",
        "outputId": "75740160-ebaf-4ccf-aa94-77828cd10a9c"
      },
      "execution_count": null,
      "outputs": [
        {
          "output_type": "stream",
          "name": "stdout",
          "text": [
            "M\n",
            "a\n"
          ]
        }
      ]
    },
    {
      "cell_type": "code",
      "source": [
        "mochila = ['Machado', 'Camisa', 'Bacon', 'Abacate']\n",
        "for item in mochila:\n",
        "  for letra in item:\n",
        "    print(letra, end='')\n",
        "  print()"
      ],
      "metadata": {
        "colab": {
          "base_uri": "https://localhost:8080/"
        },
        "id": "TBaZEpEMufYG",
        "outputId": "26a9863d-68b2-4fd4-c83f-4ca97def6f34"
      },
      "execution_count": null,
      "outputs": [
        {
          "output_type": "stream",
          "name": "stdout",
          "text": [
            "Machado\n",
            "Camisa\n",
            "Bacon\n",
            "Abacate\n"
          ]
        }
      ]
    },
    {
      "cell_type": "code",
      "source": [
        "mochila = ['Machado', 'Camisa', 'Bacon', 'Abacate']\n",
        "for i in range(0,len(mochila),1):\n",
        "  for j in range(0,len(mochila[i]),1):\n",
        "    print(mochila[i][j], end='')\n",
        "  print()"
      ],
      "metadata": {
        "colab": {
          "base_uri": "https://localhost:8080/"
        },
        "id": "E-YVkxW1veJ1",
        "outputId": "01981438-2498-401b-9210-9b3b44ba29a3"
      },
      "execution_count": null,
      "outputs": [
        {
          "output_type": "stream",
          "name": "stdout",
          "text": [
            "Machado\n",
            "Camisa\n",
            "Bacon\n",
            "Abacate\n"
          ]
        }
      ]
    },
    {
      "cell_type": "code",
      "source": [
        "#Voltando...\n",
        "\n",
        "item = []\n",
        "mercado = []\n",
        "\n",
        "for i in range(3):\n",
        "  item.append(input('Digite o nome do item:'))\n",
        "  item.append(int(input('Digite a quantidade:')))\n",
        "  item.append(float(input('Digite o valor:')))\n",
        "  mercado.append(item[:])\n",
        "  item.clear()\n",
        "print(mercado)"
      ],
      "metadata": {
        "id": "axIQKr3RwLur",
        "colab": {
          "base_uri": "https://localhost:8080/"
        },
        "outputId": "5f82d24f-3ed9-46e5-936c-974a7e2872b9"
      },
      "execution_count": null,
      "outputs": [
        {
          "output_type": "stream",
          "name": "stdout",
          "text": [
            "Digite o nome do item:Cebola\n",
            "Digite a quantidade:2\n",
            "Digite o valor:0.58\n",
            "Digite o nome do item:Tomate\n",
            "Digite a quantidade:3\n",
            "Digite o valor:0.48\n",
            "Digite o nome do item:Alface\n",
            "Digite a quantidade:1\n",
            "Digite o valor:2\n",
            "[['Cebola', 2, 0.58], ['Tomate', 3, 0.48], ['Alface', 1, 2.0]]\n"
          ]
        }
      ]
    },
    {
      "cell_type": "code",
      "source": [
        "#simplificando\n",
        "mercado =[]\n",
        "\n",
        "for i in range(3):\n",
        "  nome = input('Digite o nome do item:')\n",
        "  qtd = int(input('Digite a quantidade:'))\n",
        "  valor = float(input('Digite o valor:'))\n",
        "  mercado.append([nome, qtd, valor])\n",
        "print(mercado)"
      ],
      "metadata": {
        "colab": {
          "base_uri": "https://localhost:8080/"
        },
        "id": "ZtAYjaYDxrF0",
        "outputId": "4968d1a3-6581-4fab-8a4b-454f07ce997b"
      },
      "execution_count": null,
      "outputs": [
        {
          "output_type": "stream",
          "name": "stdout",
          "text": [
            "Digite o nome do item:Cebola\n",
            "Digite a quantidade:1\n",
            "Digite o valor:2\n",
            "Digite o nome do item:Tomate\n",
            "Digite a quantidade:3\n",
            "Digite o valor:2.50\n",
            "Digite o nome do item:Alface\n",
            "Digite a quantidade:4\n",
            "Digite o valor:1.50\n",
            "[['Cebola', 1, 2.0], ['Tomate', 3, 2.5], ['Alface', 4, 1.5]]\n"
          ]
        }
      ]
    },
    {
      "cell_type": "code",
      "source": [
        "soma = 0\n",
        "print('Lista de compras:')\n",
        "print('_' *20)\n",
        "print('item | quantidade | valor unitario | total do item')\n",
        "for item in mercado:\n",
        "  print('{} | {} | {} | {}'.format(item[0], item[1], item[2], item[1] * item[2]))\n",
        "  soma += item[1] * item[2]\n",
        "print('_' * 20)\n",
        "print('Total a ser pago: {}'.format(soma))"
      ],
      "metadata": {
        "colab": {
          "base_uri": "https://localhost:8080/"
        },
        "id": "wLl4HS0CyWIH",
        "outputId": "5a509da7-3c27-4dab-9e7c-68840d6024f6"
      },
      "execution_count": null,
      "outputs": [
        {
          "output_type": "stream",
          "name": "stdout",
          "text": [
            "Lista de compras:\n",
            "____________________\n",
            "item | quantidade | valor unitario | total do item\n",
            "Cebola | 1 | 2.0 | 2.0\n",
            "Tomate | 3 | 2.5 | 7.5\n",
            "Alface | 4 | 1.5 | 6.0\n",
            "____________________\n",
            "Total a ser pago: 15.5\n"
          ]
        }
      ]
    },
    {
      "cell_type": "code",
      "source": [
        "#DICIONARIOS\n",
        "\n",
        "game = {'nome':'Super Mario',\n",
        "        'desenvolvedora':'Nintendo',\n",
        "        'ano':1990}\n",
        "print(game)"
      ],
      "metadata": {
        "colab": {
          "base_uri": "https://localhost:8080/"
        },
        "id": "jG4OE0YczlvP",
        "outputId": "f97ab18c-f7a5-4136-b201-d5aa2a4135dc"
      },
      "execution_count": null,
      "outputs": [
        {
          "output_type": "stream",
          "name": "stdout",
          "text": [
            "{'nome': 'Super Mario', 'desenvolvedora': 'Nintendo', 'ano': 1990}\n"
          ]
        }
      ]
    },
    {
      "cell_type": "code",
      "source": [
        "print(game['nome'])\n",
        "print(game['desenvolvedora'])\n",
        "print(game['ano'])"
      ],
      "metadata": {
        "colab": {
          "base_uri": "https://localhost:8080/"
        },
        "id": "T9hRZz7i0Z1d",
        "outputId": "4f1d79ff-8f83-4232-efe2-c5d6fba6f094"
      },
      "execution_count": null,
      "outputs": [
        {
          "output_type": "stream",
          "name": "stdout",
          "text": [
            "Super Mario\n",
            "Nintendo\n",
            "1990\n"
          ]
        }
      ]
    },
    {
      "cell_type": "code",
      "source": [
        "#voltando\n",
        "\n",
        "print(game.values())\n"
      ],
      "metadata": {
        "colab": {
          "base_uri": "https://localhost:8080/"
        },
        "id": "NLhawSdE0slS",
        "outputId": "8335c3ea-8027-425e-bd76-b799ec598cb9"
      },
      "execution_count": null,
      "outputs": [
        {
          "output_type": "stream",
          "name": "stdout",
          "text": [
            "dict_values(['Super Mario', 'Nintendo', 1990])\n"
          ]
        }
      ]
    },
    {
      "cell_type": "code",
      "source": [
        "for i in game.keys():\n",
        "  print(i)"
      ],
      "metadata": {
        "colab": {
          "base_uri": "https://localhost:8080/"
        },
        "id": "W6w-vZ8R1VvD",
        "outputId": "cd13c98e-ea2c-4c59-9c5f-51428d6e09d0"
      },
      "execution_count": null,
      "outputs": [
        {
          "output_type": "stream",
          "name": "stdout",
          "text": [
            "nome\n",
            "desenvolvedora\n",
            "ano\n"
          ]
        }
      ]
    },
    {
      "cell_type": "code",
      "source": [
        "print(game.keys())"
      ],
      "metadata": {
        "colab": {
          "base_uri": "https://localhost:8080/"
        },
        "id": "90bs4tiF1w-z",
        "outputId": "0f817e2a-032f-4b21-9362-1cc4bf86eb0d"
      },
      "execution_count": null,
      "outputs": [
        {
          "output_type": "stream",
          "name": "stdout",
          "text": [
            "dict_keys(['nome', 'desenvolvedora', 'ano'])\n"
          ]
        }
      ]
    },
    {
      "cell_type": "code",
      "source": [
        "for i in game.keys():\n",
        "  print(i)"
      ],
      "metadata": {
        "colab": {
          "base_uri": "https://localhost:8080/"
        },
        "id": "MjNmgO2e18eN",
        "outputId": "17c8dae9-5bba-4dbf-dad0-2aa7633f50bf"
      },
      "execution_count": null,
      "outputs": [
        {
          "output_type": "stream",
          "name": "stdout",
          "text": [
            "nome\n",
            "desenvolvedora\n",
            "ano\n"
          ]
        }
      ]
    },
    {
      "cell_type": "code",
      "source": [
        "print(game.items())"
      ],
      "metadata": {
        "colab": {
          "base_uri": "https://localhost:8080/"
        },
        "id": "f8yH03FU2Pjt",
        "outputId": "2a21d62f-1cbb-4051-a513-a30f538e5d2d"
      },
      "execution_count": null,
      "outputs": [
        {
          "output_type": "stream",
          "name": "stdout",
          "text": [
            "dict_items([('nome', 'Super Mario'), ('desenvolvedora', 'Nintendo'), ('ano', 1990)])\n"
          ]
        }
      ]
    },
    {
      "cell_type": "code",
      "source": [
        "for i,j in game.items():\n",
        "  print('{} = {}'.format(i,j))"
      ],
      "metadata": {
        "colab": {
          "base_uri": "https://localhost:8080/"
        },
        "id": "mpmelDSh2T18",
        "outputId": "006e14bc-65ba-4912-a7ec-727b092796c1"
      },
      "execution_count": null,
      "outputs": [
        {
          "output_type": "stream",
          "name": "stdout",
          "text": [
            "nome = Super Mario\n",
            "desenvolvedora = Nintendo\n",
            "ano = 1990\n"
          ]
        }
      ]
    },
    {
      "cell_type": "code",
      "source": [
        "#LISTAS COM DICIONARIOS\n",
        "\n",
        "games = []\n",
        "game1 = {'nome':'Super Mario',\n",
        "         'videogame':'Super Nintendo',\n",
        "         'ano':1990}\n",
        "game2 = {'nome':'Zelda',\n",
        "         'videogame':'Nintendo 64',\n",
        "         'ano':1998}\n",
        "game3 = {'nome':'Pokemon Yellow',\n",
        "         'videogame':'Game Boy',\n",
        "         'ano':1999}\n",
        "games = [game1, game2, game3]\n",
        "print(games)"
      ],
      "metadata": {
        "colab": {
          "base_uri": "https://localhost:8080/"
        },
        "id": "HboOXOfT26L7",
        "outputId": "0edb7263-78ce-4b14-fdb6-ed11236960dd"
      },
      "execution_count": null,
      "outputs": [
        {
          "output_type": "stream",
          "name": "stdout",
          "text": [
            "[{'nome': 'Super Mario', 'videogame': 'Super Nintendo', 'ano': 1990}, {'nome': 'Zelda', 'videogame': 'Nintendo 64', 'ano': 1998}, {'nome': 'Pokemon Yellow', 'videogame': 'Game Boy', 'ano': 1999}]\n"
          ]
        }
      ]
    },
    {
      "cell_type": "code",
      "source": [
        "game = {}\n",
        "games = []\n",
        "for i in range(3):\n",
        "  game['nome'] = input('Qual o nome do jogo?')\n",
        "  game['videogame'] = input('Para qual video-game ele foi lançado?')\n",
        "  game['ano'] = input('Qual o ano de lançamento?')\n",
        "  games.append(game.copy())\n",
        "print('_' * 20)\n",
        "for e in games:\n",
        "  for i,j in e.items():\n",
        "    print('O campo {} tem o valor {}'.format(i,j))"
      ],
      "metadata": {
        "colab": {
          "base_uri": "https://localhost:8080/"
        },
        "id": "2KHwkpT73-d0",
        "outputId": "ad67a522-148f-43aa-842d-69e460392200"
      },
      "execution_count": null,
      "outputs": [
        {
          "output_type": "stream",
          "name": "stdout",
          "text": [
            "Qual o nome do jogo?Mario\n",
            "Para qual video-game ele foi lançado?SNES\n",
            "Qual o ano de lançamento?1990\n",
            "Qual o nome do jogo?Zelda\n",
            "Para qual video-game ele foi lançado?N64\n",
            "Qual o ano de lançamento?1998\n",
            "Qual o nome do jogo?Pokemon\n",
            "Para qual video-game ele foi lançado?GB\n",
            "Qual o ano de lançamento?1999\n",
            "____________________\n",
            "O campo nome tem o valor Mario\n",
            "O campo videogame tem o valor SNES\n",
            "O campo ano tem o valor 1990\n",
            "O campo nome tem o valor Zelda\n",
            "O campo videogame tem o valor N64\n",
            "O campo ano tem o valor 1998\n",
            "O campo nome tem o valor Pokemon\n",
            "O campo videogame tem o valor GB\n",
            "O campo ano tem o valor 1999\n"
          ]
        }
      ]
    },
    {
      "cell_type": "code",
      "source": [
        "# DICIONARIOS COM LISTAS\n",
        "\n",
        "games = {'nome':['Super Mario', 'Zelda', 'Pokemon'],\n",
        "         'videogame':['Super Nintendo','Nintendo 64', 'Game Boy'],\n",
        "         'ano':[1990,1998,1999]}\n",
        "print(games)"
      ],
      "metadata": {
        "colab": {
          "base_uri": "https://localhost:8080/"
        },
        "id": "WsgY02rP5BuW",
        "outputId": "268a72e6-5b4a-4c50-880c-af2c0ea09444"
      },
      "execution_count": null,
      "outputs": [
        {
          "output_type": "stream",
          "name": "stdout",
          "text": [
            "{'nome': ['Super Mario', 'Zelda', 'Pokemon'], 'videogame': ['Super Nintendo', 'Nintendo 64', 'Game Boy'], 'ano': [1990, 1998, 1999]}\n"
          ]
        }
      ]
    },
    {
      "cell_type": "code",
      "source": [
        "games = {'nome':[], 'videogame':[], 'ano':[]}\n",
        "for i in range(3):\n",
        "  nome = input('Qual o nome do jogo?')\n",
        "  videogame = input('Para qual o video-game ele foi lançado?')\n",
        "  ano = input('Qual o ano de lançamento')\n",
        "  games['nome'].append(nome)\n",
        "  games['videogame'].append(nome)\n",
        "  games['ano'].append(ano)\n",
        "print('_' * 20)\n",
        "print(games)"
      ],
      "metadata": {
        "colab": {
          "base_uri": "https://localhost:8080/"
        },
        "id": "bRjHGtdw6JF2",
        "outputId": "1b579eaa-f8e7-4533-d961-ea78374e3d4c"
      },
      "execution_count": null,
      "outputs": [
        {
          "output_type": "stream",
          "name": "stdout",
          "text": [
            "Qual o nome do jogo?mario\n",
            "Para qual o video-game ele foi lançado?snes\n",
            "Qual o ano de lançamento1990\n",
            "Qual o nome do jogo?zelda\n",
            "Para qual o video-game ele foi lançado?n64\n",
            "Qual o ano de lançamento1998\n",
            "Qual o nome do jogo?pokemon\n",
            "Para qual o video-game ele foi lançado?gb\n",
            "Qual o ano de lançamento1999\n",
            "____________________\n",
            "{'nome': ['mario', 'zelda', 'pokemon'], 'videogame': ['mario', 'zelda', 'pokemon'], 'ano': ['1990', '1998', '1999']}\n"
          ]
        }
      ]
    },
    {
      "cell_type": "code",
      "source": [
        "#TRABALHANDO COM METODOS EM STRINGS\n",
        "\n",
        "s1 = 'Algoritimos'\n",
        "print(s1)\n",
        "s1[0] = 'a'"
      ],
      "metadata": {
        "colab": {
          "base_uri": "https://localhost:8080/",
          "height": 217
        },
        "id": "cTM3ADNn7Qli",
        "outputId": "9f74b2f7-4e8a-4253-f091-7971c5de7b6d"
      },
      "execution_count": null,
      "outputs": [
        {
          "output_type": "stream",
          "name": "stdout",
          "text": [
            "Algoritimos\n"
          ]
        },
        {
          "output_type": "error",
          "ename": "TypeError",
          "evalue": "ignored",
          "traceback": [
            "\u001b[0;31m---------------------------------------------------------------------------\u001b[0m",
            "\u001b[0;31mTypeError\u001b[0m                                 Traceback (most recent call last)",
            "\u001b[0;32m<ipython-input-53-f83467c00219>\u001b[0m in \u001b[0;36m<module>\u001b[0;34m\u001b[0m\n\u001b[1;32m      3\u001b[0m \u001b[0ms1\u001b[0m \u001b[0;34m=\u001b[0m \u001b[0;34m'Algoritimos'\u001b[0m\u001b[0;34m\u001b[0m\u001b[0;34m\u001b[0m\u001b[0m\n\u001b[1;32m      4\u001b[0m \u001b[0mprint\u001b[0m\u001b[0;34m(\u001b[0m\u001b[0ms1\u001b[0m\u001b[0;34m)\u001b[0m\u001b[0;34m\u001b[0m\u001b[0;34m\u001b[0m\u001b[0m\n\u001b[0;32m----> 5\u001b[0;31m \u001b[0ms1\u001b[0m\u001b[0;34m[\u001b[0m\u001b[0;36m0\u001b[0m\u001b[0;34m]\u001b[0m \u001b[0;34m=\u001b[0m \u001b[0;34m'a'\u001b[0m\u001b[0;34m\u001b[0m\u001b[0;34m\u001b[0m\u001b[0m\n\u001b[0m",
            "\u001b[0;31mTypeError\u001b[0m: 'str' object does not support item assignment"
          ]
        }
      ]
    },
    {
      "cell_type": "code",
      "source": [
        "s1 = list('Algoritmos')\n",
        "print(s1) #print separado\n",
        "print(''.join(s1)) #print agrupado"
      ],
      "metadata": {
        "colab": {
          "base_uri": "https://localhost:8080/"
        },
        "id": "-YrzgIJF73oX",
        "outputId": "f11a3593-609a-49b7-dc58-8a2d3826c259"
      },
      "execution_count": null,
      "outputs": [
        {
          "output_type": "stream",
          "name": "stdout",
          "text": [
            "['A', 'l', 'g', 'o', 'r', 'i', 't', 'm', 'o', 's']\n",
            "Algoritmos\n"
          ]
        }
      ]
    },
    {
      "cell_type": "code",
      "source": [
        "s1[0] = 'a'\n",
        "print(''.join(s1))\n"
      ],
      "metadata": {
        "colab": {
          "base_uri": "https://localhost:8080/"
        },
        "id": "X5l053Ih8XIw",
        "outputId": "3d41e7d9-7666-4241-fe9f-4fd36494ce21"
      },
      "execution_count": null,
      "outputs": [
        {
          "output_type": "stream",
          "name": "stdout",
          "text": [
            "algoritmos\n"
          ]
        }
      ]
    },
    {
      "cell_type": "code",
      "source": [
        "# VERIFICANDO CARACTERES\n",
        "\n",
        "s1 = 'Logica de Programacao e Algoritmos'\n",
        "s1.startswith('Logica')"
      ],
      "metadata": {
        "colab": {
          "base_uri": "https://localhost:8080/"
        },
        "id": "YiNg5YOu80md",
        "outputId": "ae292fc0-c07f-40ef-891b-db0db169445e"
      },
      "execution_count": null,
      "outputs": [
        {
          "output_type": "execute_result",
          "data": {
            "text/plain": [
              "True"
            ]
          },
          "metadata": {},
          "execution_count": 57
        }
      ]
    },
    {
      "cell_type": "code",
      "source": [
        "s1 = 'Logica de Programacao e Algoritmos'\n",
        "s1.endswith('Algoritmos')"
      ],
      "metadata": {
        "colab": {
          "base_uri": "https://localhost:8080/"
        },
        "id": "oGoDar1U9Gve",
        "outputId": "72b282ab-585f-4aab-ab73-9199630eb82c"
      },
      "execution_count": null,
      "outputs": [
        {
          "output_type": "execute_result",
          "data": {
            "text/plain": [
              "True"
            ]
          },
          "metadata": {},
          "execution_count": 58
        }
      ]
    },
    {
      "cell_type": "code",
      "source": [
        "s1 = 'Logica de Programacao e Algoritmos'\n",
        "s1.endswith('algoritmos')"
      ],
      "metadata": {
        "colab": {
          "base_uri": "https://localhost:8080/"
        },
        "id": "m3WYS6T69PPq",
        "outputId": "b230ba19-ce62-489b-e1ee-d764f2528ea8"
      },
      "execution_count": null,
      "outputs": [
        {
          "output_type": "execute_result",
          "data": {
            "text/plain": [
              "False"
            ]
          },
          "metadata": {},
          "execution_count": 59
        }
      ]
    },
    {
      "cell_type": "code",
      "source": [
        "s1 = 'Logica de Programacao e Algoritmos'\n",
        "s1.lower().endswith('algoritmos')"
      ],
      "metadata": {
        "colab": {
          "base_uri": "https://localhost:8080/"
        },
        "id": "j9aF6kD89VW3",
        "outputId": "0d37535f-456b-44f0-8910-ad74033abc4f"
      },
      "execution_count": null,
      "outputs": [
        {
          "output_type": "execute_result",
          "data": {
            "text/plain": [
              "True"
            ]
          },
          "metadata": {},
          "execution_count": 60
        }
      ]
    },
    {
      "cell_type": "code",
      "source": [
        "s1 = 'Logica de Programacao e Algoritmos'\n",
        "print(s1.upper())\n",
        "print(s1.lower())"
      ],
      "metadata": {
        "colab": {
          "base_uri": "https://localhost:8080/"
        },
        "id": "wiZ39Orv9mJE",
        "outputId": "65234529-cec6-4c97-f88e-6ce79af29b6a"
      },
      "execution_count": null,
      "outputs": [
        {
          "output_type": "stream",
          "name": "stdout",
          "text": [
            "LOGICA DE PROGRAMACAO E ALGORITMOS\n",
            "logica de programacao e algoritmos\n"
          ]
        }
      ]
    },
    {
      "cell_type": "code",
      "source": [
        "#CONTANDO CARACTERES\n",
        "\n",
        "s1 = 'Logica de Programacao e Algoritmos'\n",
        "s1.count('a')"
      ],
      "metadata": {
        "colab": {
          "base_uri": "https://localhost:8080/"
        },
        "id": "4AUAcWpe9yQe",
        "outputId": "519fcfd4-43ad-4a64-fe56-daa83a497e40"
      },
      "execution_count": null,
      "outputs": [
        {
          "output_type": "execute_result",
          "data": {
            "text/plain": [
              "4"
            ]
          },
          "metadata": {},
          "execution_count": 62
        }
      ]
    },
    {
      "cell_type": "code",
      "source": [
        "s1 = 'Logica de Programacao e Algoritmos'\n",
        "s1.lower().count('a')"
      ],
      "metadata": {
        "colab": {
          "base_uri": "https://localhost:8080/"
        },
        "id": "MW9angJn97wc",
        "outputId": "97be0c93-dbdd-4c71-80e6-2d8743454fbb"
      },
      "execution_count": null,
      "outputs": [
        {
          "output_type": "execute_result",
          "data": {
            "text/plain": [
              "5"
            ]
          },
          "metadata": {},
          "execution_count": 63
        }
      ]
    },
    {
      "cell_type": "code",
      "source": [
        "s1 = 'Um mafagafinho, dois mafagafinhos, tres mafagafinhos...'\n",
        "s1.lower().count('mafagafinho')"
      ],
      "metadata": {
        "colab": {
          "base_uri": "https://localhost:8080/"
        },
        "id": "t_cwa9GS-ACo",
        "outputId": "669998b0-0386-4f8a-f5c9-66cfbd71e2f2"
      },
      "execution_count": null,
      "outputs": [
        {
          "output_type": "execute_result",
          "data": {
            "text/plain": [
              "3"
            ]
          },
          "metadata": {},
          "execution_count": 65
        }
      ]
    },
    {
      "cell_type": "code",
      "source": [
        "# QUEBRANDO STRINGS\n",
        "\n",
        "s1 = 'Um mafagafinho, dois mafagafinhos, tres mafagafinhos...'\n",
        "s1.split(' ')"
      ],
      "metadata": {
        "colab": {
          "base_uri": "https://localhost:8080/"
        },
        "id": "wcJoNnjv-eKv",
        "outputId": "0ae36a10-5e37-4b03-c778-1f24e5fafa98"
      },
      "execution_count": null,
      "outputs": [
        {
          "output_type": "execute_result",
          "data": {
            "text/plain": [
              "['Um', 'mafagafinho,', 'dois', 'mafagafinhos,', 'tres', 'mafagafinhos...']"
            ]
          },
          "metadata": {},
          "execution_count": 66
        }
      ]
    },
    {
      "cell_type": "code",
      "source": [
        "s1 = 'Um mafagafinho, dois mafagafinhos, tres mafagafinhos...'\n",
        "s1.replace('mafagafinho', 'gatinho')"
      ],
      "metadata": {
        "colab": {
          "base_uri": "https://localhost:8080/",
          "height": 35
        },
        "id": "a8K8YXu5-p-L",
        "outputId": "e4bd5f93-18b8-4a14-8e3b-2c7a56b028dc"
      },
      "execution_count": null,
      "outputs": [
        {
          "output_type": "execute_result",
          "data": {
            "text/plain": [
              "'Um gatinho, dois gatinhos, tres gatinhos...'"
            ],
            "application/vnd.google.colaboratory.intrinsic+json": {
              "type": "string"
            }
          },
          "metadata": {},
          "execution_count": 67
        }
      ]
    },
    {
      "cell_type": "code",
      "source": [
        "s1 = 'Um mafagafinho, dois mafagafinhos, tres mafagafinhos...'\n",
        "s1.replace('mafagafinho','gatinho',1)"
      ],
      "metadata": {
        "colab": {
          "base_uri": "https://localhost:8080/",
          "height": 35
        },
        "id": "Uw0BKVKn-xc9",
        "outputId": "a772d942-193e-44c7-d4ff-064e0af2139a"
      },
      "execution_count": null,
      "outputs": [
        {
          "output_type": "execute_result",
          "data": {
            "text/plain": [
              "'Um gatinho, dois mafagafinhos, tres mafagafinhos...'"
            ],
            "application/vnd.google.colaboratory.intrinsic+json": {
              "type": "string"
            }
          },
          "metadata": {},
          "execution_count": 68
        }
      ]
    },
    {
      "cell_type": "code",
      "source": [
        "# VALIDANDO TIPOS DE DADOS\n",
        "\n",
        "s1 = 'Logica de Programacao e Algoritmos'\n",
        "s2 = '42'"
      ],
      "metadata": {
        "id": "3Z0dqMHR-6Lc"
      },
      "execution_count": null,
      "outputs": []
    },
    {
      "cell_type": "code",
      "source": [
        "print(s1.isalnum())\n",
        "print(s2.isalnum())"
      ],
      "metadata": {
        "colab": {
          "base_uri": "https://localhost:8080/"
        },
        "id": "XFiUSFLX_SuK",
        "outputId": "66e13f8b-f0f3-4d91-8241-7d8f177e039d"
      },
      "execution_count": null,
      "outputs": [
        {
          "output_type": "stream",
          "name": "stdout",
          "text": [
            "False\n",
            "True\n"
          ]
        }
      ]
    },
    {
      "cell_type": "code",
      "source": [
        "print(s1.isalpha())\n",
        "print(s2.isalpha())"
      ],
      "metadata": {
        "colab": {
          "base_uri": "https://localhost:8080/"
        },
        "id": "p2D0La-T_fIk",
        "outputId": "1195bc3d-245a-43d2-9fa6-4c16aa8570dd"
      },
      "execution_count": null,
      "outputs": [
        {
          "output_type": "stream",
          "name": "stdout",
          "text": [
            "False\n",
            "False\n"
          ]
        }
      ]
    },
    {
      "cell_type": "code",
      "source": [
        "s1 = 'LogicadeProgramacaoeAlgoritmos'\n",
        "print(s1.isalpha())"
      ],
      "metadata": {
        "colab": {
          "base_uri": "https://localhost:8080/"
        },
        "id": "LywoQU1y_pPn",
        "outputId": "c2062d6d-1d46-4e18-ab03-2ccdd0a2210a"
      },
      "execution_count": null,
      "outputs": [
        {
          "output_type": "stream",
          "name": "stdout",
          "text": [
            "True\n"
          ]
        }
      ]
    },
    {
      "cell_type": "code",
      "source": [
        "#  AULA PRATICA\n",
        "\n",
        "# print(sqrt(9)) < Não vai funcionar <<<< SQRT é raiz quadrada em função\n",
        "\n",
        "# Fórmula que funciona:\n",
        "\n",
        "import math\n",
        "\n",
        "print(math.sqrt(9))\n",
        "\n",
        "# Montar nicknames menores para as bibliotecas:\n",
        "\n",
        "import math as m\n",
        "\n",
        "print(m.sqrt(9))\n",
        "\n",
        "# Caso queira importar somente a função exclusiva de uma biblioteca:\n",
        "\n",
        "from math import sqrt\n",
        "\n",
        "print(sqrt(9))\n",
        "\n",
        "\n",
        "# Lista: Dada uma lista costendo as notas de alunos em um a disciplina, escreva uma expressão para:\n",
        "# notas = [9,7,7,10,3,9,6,6,2]\n",
        "\n",
        "# A) Encontrar quantos alunos tiraram nota 7\n",
        "notas = [9,7,7,10,3,9,6,6,2]\n",
        "print(notas.count(7))\n",
        "\n",
        "\n",
        "# B) Alterar a última nota para 4\n",
        "notas[-1] = 4\n",
        "print(notas)\n",
        "\n",
        "# C) Encontrar a maior nota:\n",
        "\n",
        "def max_notas(notas):\n",
        "    maior = notas[0] # Sempre usar na inicialização do código o primeiro número da lista, pois se usarmos algum número que não esteja na lista corremos o risco do código se perder\n",
        "    for i in notas:\n",
        "        if (i > maior):\n",
        "            maior = i\n",
        "    return  maior\n",
        "\n",
        "maior_nota = max_notas(notas)\n",
        "print(maior_nota)\n",
        "\n",
        "\n",
        "# D) Ordenar a lista de notas:\n",
        "\n",
        "notas.sort()\n",
        "print(notas)\n",
        "\n",
        "\n",
        "# E) A média das notas:\n",
        "\n",
        "def media(notas):\n",
        "    soma = 0\n",
        "    count = 0\n",
        "    for i in notas:\n",
        "        cont = count + 1\n",
        "        soma = soma + i\n",
        "    med = soma/cont\n",
        "    return med\n",
        "\n",
        "media_notas = media(notas)\n",
        "print(notas)\n",
        "print(\"Notas = \"+str(media_notas))\n",
        "\n",
        "\n",
        "\n",
        "# 1) Escreva um algoritmo que crie uma tuplacom 10 palavras. Encontre dentro dessa tupla as vogais de cada palavra. Fraça um print na tela com o nome da palavra e sua respectivas vogais\n",
        "\n",
        "palavras = ('Juan', 'Elaine', 'Oderide', 'Maria Eduarda', 'Sofia')\n",
        "\n",
        "for palavra in palavras:\n",
        "    print('\\nPalavra: {}. Vogais:  '. format(palavra.upper()), end='')\n",
        "    for letra in palavra:\n",
        "        if letra.lower() in 'aeiou':\n",
        "            print(letra.upper(), end= ' ')\n",
        "\n",
        "\n",
        "# Crie um jogo de pedra, papael ou tesoura (Jokenpô). Você deverá jogar contra o computador. Você irá sempre escolher uma das opções: 1 - pedra, 2 - papel 3 - tesoura.\n",
        "# O computador irá sempre sortear um número de 1 até 3 para jogar. Armazene todos os resultados em uma lista e no final apresente o vencedor.\n",
        "# Encerre o programa ao digitar zero (0)\n",
        "\n",
        "\n",
        "import random\n",
        "\n",
        "\n",
        "def valida_int(pergunta, min, max):\n",
        "    x = int(input(pergunta))\n",
        "    while((x < min) or (x > max)):\n",
        "        x = int(input(pergunta))\n",
        "    return x\n",
        "\n",
        "def vencedor(jogador1, jogador2):\n",
        "    global empate, v1, v2\n",
        "    if jogador1 == 1: #Pedra\n",
        "        if jogador2 == 1: #Pedra\n",
        "            empate += 1\n",
        "\n",
        "        elif jogador2 == 2: #Papel\n",
        "            v2 +=1\n",
        "\n",
        "        elif jogador2 == 3: #Tesoura\n",
        "            v1 += 1\n",
        "\n",
        "    elif jogador1 == 2: #Papel\n",
        "        if jogador2 == 1: #Pedra\n",
        "            v1 += 1\n",
        "\n",
        "        elif jogador2 == 2: #Papel\n",
        "            empate += 1\n",
        "\n",
        "        elif jogador2 == 3: #Tesoura\n",
        "            v2 += 1\n",
        "\n",
        "    elif jogador1 == 3: #Tesoura\n",
        "        if jogador2 == 1: #Pedra\n",
        "            v2 =+ 1\n",
        "\n",
        "        elif jogador2 == 2: #Papel\n",
        "            v1 += 1\n",
        "\n",
        "        elif jogador2 == 3: #Tesoura\n",
        "            empate +=1\n",
        "\n",
        "    resultados = [v1,v2,empate]\n",
        "    return resultados\n",
        "\n",
        "# Programa principal:\n",
        "\n",
        "print('Jokempô')\n",
        "print('1 - Pedra')\n",
        "print('2 - Papel')\n",
        "print('3 - Tesoura')\n",
        "\n",
        "resultados = []\n",
        "jogadas = []\n",
        "v1 = 0\n",
        "v2 = 0\n",
        "empate = 0\n",
        "\n",
        "while True:\n",
        "    j1 = valida_int('\\nEscolha sua jogada: ', 0, 3)\n",
        "    if not j1: # Ou posso colocar if j1 == 0:\n",
        "        break\n",
        "    j2 = random.randint(1,3)\n",
        "    jogadas.append([j1, j2])\n",
        "    resultados = vencedor(j1,j2)\n",
        "    print((vencedor(j1,j2)))\n",
        "\n",
        "    for jogada in jogadas:\n",
        "        for dado in jogada:\n",
        "            print(dado, end=' ')\n",
        "        print()\n",
        "\n",
        "print('Número de vitórias do jogador 1: {}' .format(resultados[0]))\n",
        "print('Número de vitórias do jogador 2: {}' .format(resultados[1]))\n",
        "print('Número de empates: {}' .format(resultados[2]))\n",
        "\n",
        "\n",
        "# Crie um programa para ler o nome, ano de nascimento e sexo de diferentes pessoas, armazene os dados em um dicionário com lista e ao encerrar o cadastro, apresente:\n",
        "# A) Total de cadastros efetuados / B) A média das idades das pessoas / C) Uma lista de mulheres com menos de 30 anos / D) Uma lista de homens com idade acima da média\n",
        "\n",
        "cadastro = {'nome': [], 'sexo': [], 'ano': []}\n",
        "\n",
        "while True:\n",
        "    terminar = input('Deseja cadastrar mais uma pessoa? [S/N]: ')\n",
        "    if terminar.upper() in 'N': # Ou posso colocar 'N' e 'n', assim ficando 'Nn'\n",
        "        break\n",
        "    if terminar.upper() not in 'S':\n",
        "        print('Digite S para SIM ou N para NÃO')\n",
        "\n",
        "    nome = input('Qual o seu nome? ')\n",
        "    sexo = input('Qual o seu sexo [M/F]: ')\n",
        "    ano = int(input('Qual o seu ano de nascimento? '))\n",
        "    cadastro['nome'].append(nome)\n",
        "    cadastro['sexo'].append(sexo.upper())\n",
        "    cadastro['ano'].append(ano)\n",
        "\n",
        "print(cadastro)"
      ],
      "metadata": {
        "id": "hlrUaU47AUBF"
      },
      "execution_count": null,
      "outputs": []
    }
  ]
}